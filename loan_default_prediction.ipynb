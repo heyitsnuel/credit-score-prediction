{
 "cells": [
  {
   "cell_type": "markdown",
   "id": "a624df78-22d2-4070-ab77-f1b3f2fd77a2",
   "metadata": {
    "id": "a624df78-22d2-4070-ab77-f1b3f2fd77a2"
   },
   "source": [
    "# Credit Score Prediction"
   ]
  },
  {
   "cell_type": "markdown",
   "id": "767463b7-a144-4ea8-a29e-0a05f7b804a0",
   "metadata": {
    "id": "767463b7-a144-4ea8-a29e-0a05f7b804a0"
   },
   "source": [
    "**Problem statement**\n",
    "\n",
    "The company provides virtual credit limits to it's customers to meet a wide array of customer financing needs. They want to use the loan data that they have to improve their risk management. They are looking to derive valuable insights from the data and to build a predictive credit score model to aid in future customer credit decisions."
   ]
  },
  {
   "cell_type": "markdown",
   "id": "dd1cc9fe-cb5c-4275-8fa7-6ef96d1f4b24",
   "metadata": {
    "id": "dd1cc9fe-cb5c-4275-8fa7-6ef96d1f4b24"
   },
   "source": [
    "**Data used in this project**\n",
    "1. Customer loan applications\n",
    "2. Customer loan details\n",
    "3. Customer repayment history"
   ]
  },
  {
   "cell_type": "markdown",
   "id": "a93c4e92",
   "metadata": {},
   "source": [
    "**Libraries used**\n",
    "1. pandas\n",
    "2. sqlalchemy\n",
    "3. seaborn\n",
    "4. matplotlib\n",
    "5. scikitlearn\n",
    "6. xgboost"
   ]
  },
  {
   "cell_type": "markdown",
   "id": "f9e063ed-9cb5-42bc-afac-f96de3a85399",
   "metadata": {
    "id": "f9e063ed-9cb5-42bc-afac-f96de3a85399"
   },
   "source": [
    "### Preparing a database to query from"
   ]
  },
  {
   "cell_type": "code",
   "execution_count": 2,
   "id": "77b26ffc-6238-4d4c-9554-7854971dcc01",
   "metadata": {
    "id": "77b26ffc-6238-4d4c-9554-7854971dcc01"
   },
   "outputs": [],
   "source": [
    "import pandas as pd\n",
    "import sqlalchemy as sa\n",
    "path = 'data/'"
   ]
  },
  {
   "cell_type": "code",
   "execution_count": 3,
   "id": "2108e8ec-c151-4a9a-a31e-c0b018978b89",
   "metadata": {
    "id": "2108e8ec-c151-4a9a-a31e-c0b018978b89"
   },
   "outputs": [],
   "source": [
    " # Create SQL Alchemy Engine\n",
    "engine = sa.create_engine('sqlite:///database.db')"
   ]
  },
  {
   "cell_type": "code",
   "execution_count": 5,
   "id": "821ce7b8-f4b8-454c-82e9-8171c9eb3026",
   "metadata": {
    "id": "821ce7b8-f4b8-454c-82e9-8171c9eb3026"
   },
   "outputs": [],
   "source": [
    "# Import data as pd.DataFrame\n",
    "application_df = pd.read_csv(path + 'application.csv')\n",
    "loan_df = pd.read_csv(path + 'loan.csv')\n",
    "payment_df = pd.read_csv(path + 'payment.csv')"
   ]
  },
  {
   "cell_type": "code",
   "execution_count": 6,
   "id": "05f44d94-85db-4158-be02-d4c5d86987eb",
   "metadata": {
    "id": "05f44d94-85db-4158-be02-d4c5d86987eb"
   },
   "outputs": [
    {
     "data": {
      "text/plain": [
       "17911"
      ]
     },
     "execution_count": 6,
     "metadata": {},
     "output_type": "execute_result"
    }
   ],
   "source": [
    "# Insert data from pd.DataFrame to SQL Alchemy Engine\n",
    "application_df.to_sql(name='application', con=engine, if_exists='replace')\n",
    "loan_df.to_sql(name='loan', con=engine, if_exists='replace')\n",
    "payment_df.to_sql(name='payment', con=engine, if_exists='replace')"
   ]
  },
  {
   "cell_type": "markdown",
   "id": "baf814c9",
   "metadata": {},
   "source": [
    "### Creating a function to query from the database instance"
   ]
  },
  {
   "cell_type": "code",
   "execution_count": 7,
   "id": "74a149ac-3aba-411e-811e-a2a7215fd09e",
   "metadata": {
    "id": "74a149ac-3aba-411e-811e-a2a7215fd09e"
   },
   "outputs": [],
   "source": [
    "def query_from_db(sql_long_string, engine):\n",
    "    \"\"\"\n",
    "    Execute SQL Statement and return the queried data as a pandas.DataFrame object\n",
    "\n",
    "    :param sql_long_string: SQL statement\n",
    "    :param engine: SQL Alchemy engine\n",
    "    \"\"\"\n",
    "    statement = engine.execute(sql_long_string)\n",
    "    df = pd.DataFrame(statement.fetchall())\n",
    "    df.columns = statement.keys()\n",
    "    return df"
   ]
  },
  {
   "cell_type": "markdown",
   "id": "8ac073b9-2e55-4fd4-9cf7-04813f357976",
   "metadata": {
    "id": "8ac073b9-2e55-4fd4-9cf7-04813f357976"
   },
   "source": [
    "## Data Preparation and Cleaning"
   ]
  },
  {
   "cell_type": "markdown",
   "id": "6cefcb1f",
   "metadata": {},
   "source": [
    "### Profiling the datasets"
   ]
  },
  {
   "cell_type": "code",
   "execution_count": 8,
   "id": "901fc1d1",
   "metadata": {
    "scrolled": true
   },
   "outputs": [
    {
     "data": {
      "text/html": [
       "<div>\n",
       "<style scoped>\n",
       "    .dataframe tbody tr th:only-of-type {\n",
       "        vertical-align: middle;\n",
       "    }\n",
       "\n",
       "    .dataframe tbody tr th {\n",
       "        vertical-align: top;\n",
       "    }\n",
       "\n",
       "    .dataframe thead th {\n",
       "        text-align: right;\n",
       "    }\n",
       "</style>\n",
       "<table border=\"1\" class=\"dataframe\">\n",
       "  <thead>\n",
       "    <tr style=\"text-align: right;\">\n",
       "      <th></th>\n",
       "      <th>Unnamed: 0</th>\n",
       "      <th>cdate</th>\n",
       "      <th>application_id</th>\n",
       "      <th>customer_id</th>\n",
       "      <th>loan_purpose</th>\n",
       "      <th>loan_purpose_desc</th>\n",
       "      <th>dob</th>\n",
       "      <th>address_provinsi</th>\n",
       "      <th>marital_status</th>\n",
       "      <th>dependent</th>\n",
       "      <th>job_type</th>\n",
       "      <th>job_industry</th>\n",
       "    </tr>\n",
       "  </thead>\n",
       "  <tbody>\n",
       "    <tr>\n",
       "      <th>0</th>\n",
       "      <td>0</td>\n",
       "      <td>2021-01-07 13:45:43.876693+00:00</td>\n",
       "      <td>2004025695250</td>\n",
       "      <td>2.003024e+12</td>\n",
       "      <td>Modal usaha</td>\n",
       "      <td>untuk usaha membuat makanan / camilan / kue</td>\n",
       "      <td>2000-01-06</td>\n",
       "      <td>Banten</td>\n",
       "      <td>Lajang</td>\n",
       "      <td>1.0</td>\n",
       "      <td>Pegawai swasta</td>\n",
       "      <td>Admin / Finance / HR</td>\n",
       "    </tr>\n",
       "    <tr>\n",
       "      <th>1</th>\n",
       "      <td>1</td>\n",
       "      <td>2021-01-14 15:56:27.403268+00:00</td>\n",
       "      <td>2004025736661</td>\n",
       "      <td>2.003024e+12</td>\n",
       "      <td>Modal usaha</td>\n",
       "      <td>saya ingin menambah modal saya untuk berjualan...</td>\n",
       "      <td>1986-07-22</td>\n",
       "      <td>Banten</td>\n",
       "      <td>Menikah</td>\n",
       "      <td>2.0</td>\n",
       "      <td>Pegawai swasta</td>\n",
       "      <td>Admin / Finance / HR</td>\n",
       "    </tr>\n",
       "    <tr>\n",
       "      <th>2</th>\n",
       "      <td>2</td>\n",
       "      <td>2021-02-07 05:21:46.225530+00:00</td>\n",
       "      <td>2004025885365</td>\n",
       "      <td>2.003023e+12</td>\n",
       "      <td>Kebutuhan sehari-hari</td>\n",
       "      <td>banyak pengeluaran bulan ini jadi ngk ketutup ...</td>\n",
       "      <td>NaN</td>\n",
       "      <td>NaN</td>\n",
       "      <td>Lajang</td>\n",
       "      <td>0.0</td>\n",
       "      <td>Pegawai swasta</td>\n",
       "      <td>Pabrik / Gudang</td>\n",
       "    </tr>\n",
       "    <tr>\n",
       "      <th>3</th>\n",
       "      <td>3</td>\n",
       "      <td>2021-04-22 07:15:09.482447+00:00</td>\n",
       "      <td>2004026435734</td>\n",
       "      <td>2.003024e+12</td>\n",
       "      <td>Modal usaha</td>\n",
       "      <td>NaN</td>\n",
       "      <td>1996-01-16</td>\n",
       "      <td>Jawa Barat</td>\n",
       "      <td>Menikah</td>\n",
       "      <td>1.0</td>\n",
       "      <td>Pegawai swasta</td>\n",
       "      <td>Pabrik / Gudang</td>\n",
       "    </tr>\n",
       "    <tr>\n",
       "      <th>4</th>\n",
       "      <td>4</td>\n",
       "      <td>2021-02-07 14:57:21.120284+00:00</td>\n",
       "      <td>2004025890269</td>\n",
       "      <td>2.003024e+12</td>\n",
       "      <td>Renovasi Rumah</td>\n",
       "      <td>Untuk renovasi rumah yg saat ini ada masalah p...</td>\n",
       "      <td>1992-06-13</td>\n",
       "      <td>NaN</td>\n",
       "      <td>NaN</td>\n",
       "      <td>0.0</td>\n",
       "      <td>Pegawai swasta</td>\n",
       "      <td>Sales / Marketing</td>\n",
       "    </tr>\n",
       "  </tbody>\n",
       "</table>\n",
       "</div>"
      ],
      "text/plain": [
       "   Unnamed: 0                             cdate  application_id   customer_id  \\\n",
       "0           0  2021-01-07 13:45:43.876693+00:00   2004025695250  2.003024e+12   \n",
       "1           1  2021-01-14 15:56:27.403268+00:00   2004025736661  2.003024e+12   \n",
       "2           2  2021-02-07 05:21:46.225530+00:00   2004025885365  2.003023e+12   \n",
       "3           3  2021-04-22 07:15:09.482447+00:00   2004026435734  2.003024e+12   \n",
       "4           4  2021-02-07 14:57:21.120284+00:00   2004025890269  2.003024e+12   \n",
       "\n",
       "            loan_purpose                                  loan_purpose_desc  \\\n",
       "0            Modal usaha        untuk usaha membuat makanan / camilan / kue   \n",
       "1            Modal usaha  saya ingin menambah modal saya untuk berjualan...   \n",
       "2  Kebutuhan sehari-hari  banyak pengeluaran bulan ini jadi ngk ketutup ...   \n",
       "3            Modal usaha                                                NaN   \n",
       "4         Renovasi Rumah  Untuk renovasi rumah yg saat ini ada masalah p...   \n",
       "\n",
       "          dob address_provinsi marital_status  dependent        job_type  \\\n",
       "0  2000-01-06           Banten         Lajang        1.0  Pegawai swasta   \n",
       "1  1986-07-22           Banten        Menikah        2.0  Pegawai swasta   \n",
       "2         NaN              NaN         Lajang        0.0  Pegawai swasta   \n",
       "3  1996-01-16       Jawa Barat        Menikah        1.0  Pegawai swasta   \n",
       "4  1992-06-13              NaN            NaN        0.0  Pegawai swasta   \n",
       "\n",
       "           job_industry  \n",
       "0  Admin / Finance / HR  \n",
       "1  Admin / Finance / HR  \n",
       "2       Pabrik / Gudang  \n",
       "3       Pabrik / Gudang  \n",
       "4     Sales / Marketing  "
      ]
     },
     "execution_count": 8,
     "metadata": {},
     "output_type": "execute_result"
    }
   ],
   "source": [
    "application_df.head()"
   ]
  },
  {
   "cell_type": "code",
   "execution_count": 9,
   "id": "edd83d5c",
   "metadata": {
    "scrolled": true
   },
   "outputs": [
    {
     "data": {
      "text/html": [
       "<div>\n",
       "<style scoped>\n",
       "    .dataframe tbody tr th:only-of-type {\n",
       "        vertical-align: middle;\n",
       "    }\n",
       "\n",
       "    .dataframe tbody tr th {\n",
       "        vertical-align: top;\n",
       "    }\n",
       "\n",
       "    .dataframe thead th {\n",
       "        text-align: right;\n",
       "    }\n",
       "</style>\n",
       "<table border=\"1\" class=\"dataframe\">\n",
       "  <thead>\n",
       "    <tr style=\"text-align: right;\">\n",
       "      <th></th>\n",
       "      <th>Unnamed: 0</th>\n",
       "      <th>application_id</th>\n",
       "      <th>customer_id</th>\n",
       "      <th>dependent</th>\n",
       "    </tr>\n",
       "  </thead>\n",
       "  <tbody>\n",
       "    <tr>\n",
       "      <th>count</th>\n",
       "      <td>497.000000</td>\n",
       "      <td>4.970000e+02</td>\n",
       "      <td>4.510000e+02</td>\n",
       "      <td>444.000000</td>\n",
       "    </tr>\n",
       "    <tr>\n",
       "      <th>mean</th>\n",
       "      <td>248.000000</td>\n",
       "      <td>2.004027e+12</td>\n",
       "      <td>2.003023e+12</td>\n",
       "      <td>1.159910</td>\n",
       "    </tr>\n",
       "    <tr>\n",
       "      <th>std</th>\n",
       "      <td>143.615807</td>\n",
       "      <td>7.486196e+05</td>\n",
       "      <td>1.177316e+06</td>\n",
       "      <td>1.149783</td>\n",
       "    </tr>\n",
       "    <tr>\n",
       "      <th>min</th>\n",
       "      <td>0.000000</td>\n",
       "      <td>2.004026e+12</td>\n",
       "      <td>2.003020e+12</td>\n",
       "      <td>0.000000</td>\n",
       "    </tr>\n",
       "    <tr>\n",
       "      <th>25%</th>\n",
       "      <td>124.000000</td>\n",
       "      <td>2.004026e+12</td>\n",
       "      <td>2.003023e+12</td>\n",
       "      <td>0.000000</td>\n",
       "    </tr>\n",
       "    <tr>\n",
       "      <th>50%</th>\n",
       "      <td>248.000000</td>\n",
       "      <td>2.004027e+12</td>\n",
       "      <td>2.003024e+12</td>\n",
       "      <td>1.000000</td>\n",
       "    </tr>\n",
       "    <tr>\n",
       "      <th>75%</th>\n",
       "      <td>372.000000</td>\n",
       "      <td>2.004027e+12</td>\n",
       "      <td>2.003024e+12</td>\n",
       "      <td>2.000000</td>\n",
       "    </tr>\n",
       "    <tr>\n",
       "      <th>max</th>\n",
       "      <td>496.000000</td>\n",
       "      <td>2.004028e+12</td>\n",
       "      <td>2.003025e+12</td>\n",
       "      <td>5.000000</td>\n",
       "    </tr>\n",
       "  </tbody>\n",
       "</table>\n",
       "</div>"
      ],
      "text/plain": [
       "       Unnamed: 0  application_id   customer_id   dependent\n",
       "count  497.000000    4.970000e+02  4.510000e+02  444.000000\n",
       "mean   248.000000    2.004027e+12  2.003023e+12    1.159910\n",
       "std    143.615807    7.486196e+05  1.177316e+06    1.149783\n",
       "min      0.000000    2.004026e+12  2.003020e+12    0.000000\n",
       "25%    124.000000    2.004026e+12  2.003023e+12    0.000000\n",
       "50%    248.000000    2.004027e+12  2.003024e+12    1.000000\n",
       "75%    372.000000    2.004027e+12  2.003024e+12    2.000000\n",
       "max    496.000000    2.004028e+12  2.003025e+12    5.000000"
      ]
     },
     "execution_count": 9,
     "metadata": {},
     "output_type": "execute_result"
    }
   ],
   "source": [
    "application_df.describe()"
   ]
  },
  {
   "cell_type": "code",
   "execution_count": 10,
   "id": "933cd1f7",
   "metadata": {
    "scrolled": false
   },
   "outputs": [
    {
     "data": {
      "text/html": [
       "<div>\n",
       "<style scoped>\n",
       "    .dataframe tbody tr th:only-of-type {\n",
       "        vertical-align: middle;\n",
       "    }\n",
       "\n",
       "    .dataframe tbody tr th {\n",
       "        vertical-align: top;\n",
       "    }\n",
       "\n",
       "    .dataframe thead th {\n",
       "        text-align: right;\n",
       "    }\n",
       "</style>\n",
       "<table border=\"1\" class=\"dataframe\">\n",
       "  <thead>\n",
       "    <tr style=\"text-align: right;\">\n",
       "      <th></th>\n",
       "      <th>Unnamed: 0</th>\n",
       "      <th>loan_id</th>\n",
       "      <th>loan_amount</th>\n",
       "      <th>loan_duration</th>\n",
       "      <th>installment_amount</th>\n",
       "      <th>fund_transfer_ts</th>\n",
       "      <th>application_id</th>\n",
       "    </tr>\n",
       "  </thead>\n",
       "  <tbody>\n",
       "    <tr>\n",
       "      <th>0</th>\n",
       "      <td>0</td>\n",
       "      <td>2.005021e+12</td>\n",
       "      <td>421632.0</td>\n",
       "      <td>5.0</td>\n",
       "      <td>113000.0</td>\n",
       "      <td>2021-10-28 02:53:53.512501+00:00</td>\n",
       "      <td>2.004027e+12</td>\n",
       "    </tr>\n",
       "    <tr>\n",
       "      <th>1</th>\n",
       "      <td>1</td>\n",
       "      <td>2.005021e+12</td>\n",
       "      <td>300000.0</td>\n",
       "      <td>3.0</td>\n",
       "      <td>118000.0</td>\n",
       "      <td>2021-04-10 15:20:20.480261+00:00</td>\n",
       "      <td>2.004026e+12</td>\n",
       "    </tr>\n",
       "    <tr>\n",
       "      <th>2</th>\n",
       "      <td>2</td>\n",
       "      <td>2.005021e+12</td>\n",
       "      <td>500000.0</td>\n",
       "      <td>6.0</td>\n",
       "      <td>113000.0</td>\n",
       "      <td>2021-02-23 08:27:53.192023+00:00</td>\n",
       "      <td>2.004026e+12</td>\n",
       "    </tr>\n",
       "    <tr>\n",
       "      <th>3</th>\n",
       "      <td>3</td>\n",
       "      <td>2.005021e+12</td>\n",
       "      <td>2500000.0</td>\n",
       "      <td>6.0</td>\n",
       "      <td>566000.0</td>\n",
       "      <td>2021-02-10 02:41:30.887286+00:00</td>\n",
       "      <td>2.004026e+12</td>\n",
       "    </tr>\n",
       "    <tr>\n",
       "      <th>4</th>\n",
       "      <td>4</td>\n",
       "      <td>2.005021e+12</td>\n",
       "      <td>500000.0</td>\n",
       "      <td>NaN</td>\n",
       "      <td>196000.0</td>\n",
       "      <td>2021-02-14 01:57:11.613161+00:00</td>\n",
       "      <td>2.004026e+12</td>\n",
       "    </tr>\n",
       "  </tbody>\n",
       "</table>\n",
       "</div>"
      ],
      "text/plain": [
       "   Unnamed: 0       loan_id  loan_amount  loan_duration  installment_amount  \\\n",
       "0           0  2.005021e+12     421632.0            5.0            113000.0   \n",
       "1           1  2.005021e+12     300000.0            3.0            118000.0   \n",
       "2           2  2.005021e+12     500000.0            6.0            113000.0   \n",
       "3           3  2.005021e+12    2500000.0            6.0            566000.0   \n",
       "4           4  2.005021e+12     500000.0            NaN            196000.0   \n",
       "\n",
       "                   fund_transfer_ts  application_id  \n",
       "0  2021-10-28 02:53:53.512501+00:00    2.004027e+12  \n",
       "1  2021-04-10 15:20:20.480261+00:00    2.004026e+12  \n",
       "2  2021-02-23 08:27:53.192023+00:00    2.004026e+12  \n",
       "3  2021-02-10 02:41:30.887286+00:00    2.004026e+12  \n",
       "4  2021-02-14 01:57:11.613161+00:00    2.004026e+12  "
      ]
     },
     "execution_count": 10,
     "metadata": {},
     "output_type": "execute_result"
    }
   ],
   "source": [
    "loan_df.head()"
   ]
  },
  {
   "cell_type": "code",
   "execution_count": 11,
   "id": "20e1f2cb",
   "metadata": {},
   "outputs": [
    {
     "data": {
      "text/html": [
       "<div>\n",
       "<style scoped>\n",
       "    .dataframe tbody tr th:only-of-type {\n",
       "        vertical-align: middle;\n",
       "    }\n",
       "\n",
       "    .dataframe tbody tr th {\n",
       "        vertical-align: top;\n",
       "    }\n",
       "\n",
       "    .dataframe thead th {\n",
       "        text-align: right;\n",
       "    }\n",
       "</style>\n",
       "<table border=\"1\" class=\"dataframe\">\n",
       "  <thead>\n",
       "    <tr style=\"text-align: right;\">\n",
       "      <th></th>\n",
       "      <th>Unnamed: 0</th>\n",
       "      <th>loan_id</th>\n",
       "      <th>loan_amount</th>\n",
       "      <th>loan_duration</th>\n",
       "      <th>installment_amount</th>\n",
       "      <th>application_id</th>\n",
       "    </tr>\n",
       "  </thead>\n",
       "  <tbody>\n",
       "    <tr>\n",
       "      <th>count</th>\n",
       "      <td>5233.00000</td>\n",
       "      <td>5.143000e+03</td>\n",
       "      <td>5.130000e+03</td>\n",
       "      <td>5132.000000</td>\n",
       "      <td>5.131000e+03</td>\n",
       "      <td>5.111000e+03</td>\n",
       "    </tr>\n",
       "    <tr>\n",
       "      <th>mean</th>\n",
       "      <td>2616.00000</td>\n",
       "      <td>2.005021e+12</td>\n",
       "      <td>9.333027e+05</td>\n",
       "      <td>3.346843</td>\n",
       "      <td>2.532074e+05</td>\n",
       "      <td>2.004027e+12</td>\n",
       "    </tr>\n",
       "    <tr>\n",
       "      <th>std</th>\n",
       "      <td>1510.78131</td>\n",
       "      <td>4.089176e+05</td>\n",
       "      <td>1.672386e+06</td>\n",
       "      <td>2.215034</td>\n",
       "      <td>3.454381e+05</td>\n",
       "      <td>7.096510e+05</td>\n",
       "    </tr>\n",
       "    <tr>\n",
       "      <th>min</th>\n",
       "      <td>0.00000</td>\n",
       "      <td>2.005021e+12</td>\n",
       "      <td>8.061000e+03</td>\n",
       "      <td>1.000000</td>\n",
       "      <td>8.888000e+03</td>\n",
       "      <td>2.004026e+12</td>\n",
       "    </tr>\n",
       "    <tr>\n",
       "      <th>25%</th>\n",
       "      <td>1308.00000</td>\n",
       "      <td>2.005021e+12</td>\n",
       "      <td>5.368400e+04</td>\n",
       "      <td>1.000000</td>\n",
       "      <td>5.745200e+04</td>\n",
       "      <td>2.004026e+12</td>\n",
       "    </tr>\n",
       "    <tr>\n",
       "      <th>50%</th>\n",
       "      <td>2616.00000</td>\n",
       "      <td>2.005021e+12</td>\n",
       "      <td>3.345805e+05</td>\n",
       "      <td>3.000000</td>\n",
       "      <td>1.180000e+05</td>\n",
       "      <td>2.004026e+12</td>\n",
       "    </tr>\n",
       "    <tr>\n",
       "      <th>75%</th>\n",
       "      <td>3924.00000</td>\n",
       "      <td>2.005022e+12</td>\n",
       "      <td>1.000000e+06</td>\n",
       "      <td>5.000000</td>\n",
       "      <td>2.850000e+05</td>\n",
       "      <td>2.004027e+12</td>\n",
       "    </tr>\n",
       "    <tr>\n",
       "      <th>max</th>\n",
       "      <td>5232.00000</td>\n",
       "      <td>2.005022e+12</td>\n",
       "      <td>1.800000e+07</td>\n",
       "      <td>9.000000</td>\n",
       "      <td>3.360000e+06</td>\n",
       "      <td>2.004028e+12</td>\n",
       "    </tr>\n",
       "  </tbody>\n",
       "</table>\n",
       "</div>"
      ],
      "text/plain": [
       "       Unnamed: 0       loan_id   loan_amount  loan_duration  \\\n",
       "count  5233.00000  5.143000e+03  5.130000e+03    5132.000000   \n",
       "mean   2616.00000  2.005021e+12  9.333027e+05       3.346843   \n",
       "std    1510.78131  4.089176e+05  1.672386e+06       2.215034   \n",
       "min       0.00000  2.005021e+12  8.061000e+03       1.000000   \n",
       "25%    1308.00000  2.005021e+12  5.368400e+04       1.000000   \n",
       "50%    2616.00000  2.005021e+12  3.345805e+05       3.000000   \n",
       "75%    3924.00000  2.005022e+12  1.000000e+06       5.000000   \n",
       "max    5232.00000  2.005022e+12  1.800000e+07       9.000000   \n",
       "\n",
       "       installment_amount  application_id  \n",
       "count        5.131000e+03    5.111000e+03  \n",
       "mean         2.532074e+05    2.004027e+12  \n",
       "std          3.454381e+05    7.096510e+05  \n",
       "min          8.888000e+03    2.004026e+12  \n",
       "25%          5.745200e+04    2.004026e+12  \n",
       "50%          1.180000e+05    2.004026e+12  \n",
       "75%          2.850000e+05    2.004027e+12  \n",
       "max          3.360000e+06    2.004028e+12  "
      ]
     },
     "execution_count": 11,
     "metadata": {},
     "output_type": "execute_result"
    }
   ],
   "source": [
    "loan_df.describe()"
   ]
  },
  {
   "cell_type": "markdown",
   "id": "cba79a2d",
   "metadata": {},
   "source": [
    "The `application` dataset contains the loan applications made by the customers, and the `loan` dataset contains the loans given by the company to the customers as a result of their applications.\n",
    "\n",
    "The primary key of the `application` dataset is `application_id`, while the `loan` dataset's primary key is `loan_id`. In addition, `application_id` is the foreign key of the `loan` dataset."
   ]
  },
  {
   "cell_type": "code",
   "execution_count": 12,
   "id": "8e58288a",
   "metadata": {
    "scrolled": true
   },
   "outputs": [
    {
     "data": {
      "text/html": [
       "<div>\n",
       "<style scoped>\n",
       "    .dataframe tbody tr th:only-of-type {\n",
       "        vertical-align: middle;\n",
       "    }\n",
       "\n",
       "    .dataframe tbody tr th {\n",
       "        vertical-align: top;\n",
       "    }\n",
       "\n",
       "    .dataframe thead th {\n",
       "        text-align: right;\n",
       "    }\n",
       "</style>\n",
       "<table border=\"1\" class=\"dataframe\">\n",
       "  <thead>\n",
       "    <tr style=\"text-align: right;\">\n",
       "      <th></th>\n",
       "      <th>Unnamed: 0.1</th>\n",
       "      <th>Unnamed: 0</th>\n",
       "      <th>payment_id</th>\n",
       "      <th>payment_number</th>\n",
       "      <th>due_date</th>\n",
       "      <th>due_amount</th>\n",
       "      <th>paid_date</th>\n",
       "      <th>paid_amount</th>\n",
       "      <th>loan_id</th>\n",
       "      <th>dpd</th>\n",
       "    </tr>\n",
       "  </thead>\n",
       "  <tbody>\n",
       "    <tr>\n",
       "      <th>0</th>\n",
       "      <td>0</td>\n",
       "      <td>0</td>\n",
       "      <td>2006021951630</td>\n",
       "      <td>1.0</td>\n",
       "      <td>2021-02-07</td>\n",
       "      <td>0.0</td>\n",
       "      <td>2021-03-08</td>\n",
       "      <td>1026000.0</td>\n",
       "      <td>2.005021e+12</td>\n",
       "      <td>29.0</td>\n",
       "    </tr>\n",
       "    <tr>\n",
       "      <th>1</th>\n",
       "      <td>1</td>\n",
       "      <td>1</td>\n",
       "      <td>2006021922761</td>\n",
       "      <td>1.0</td>\n",
       "      <td>2021-02-06</td>\n",
       "      <td>0.0</td>\n",
       "      <td>2021-03-08</td>\n",
       "      <td>152000.0</td>\n",
       "      <td>2.005021e+12</td>\n",
       "      <td>30.0</td>\n",
       "    </tr>\n",
       "    <tr>\n",
       "      <th>2</th>\n",
       "      <td>2</td>\n",
       "      <td>2</td>\n",
       "      <td>2006023224658</td>\n",
       "      <td>3.0</td>\n",
       "      <td>2021-10-21</td>\n",
       "      <td>0.0</td>\n",
       "      <td>2021-11-20</td>\n",
       "      <td>1083000.0</td>\n",
       "      <td>2.005021e+12</td>\n",
       "      <td>30.0</td>\n",
       "    </tr>\n",
       "    <tr>\n",
       "      <th>3</th>\n",
       "      <td>3</td>\n",
       "      <td>3</td>\n",
       "      <td>2006023527657</td>\n",
       "      <td>2.0</td>\n",
       "      <td>2021-10-21</td>\n",
       "      <td>0.0</td>\n",
       "      <td>2021-11-20</td>\n",
       "      <td>805000.0</td>\n",
       "      <td>2.005021e+12</td>\n",
       "      <td>30.0</td>\n",
       "    </tr>\n",
       "    <tr>\n",
       "      <th>4</th>\n",
       "      <td>4</td>\n",
       "      <td>4</td>\n",
       "      <td>2006021922762</td>\n",
       "      <td>2.0</td>\n",
       "      <td>2021-03-06</td>\n",
       "      <td>0.0</td>\n",
       "      <td>NaN</td>\n",
       "      <td>140000.0</td>\n",
       "      <td>2.005021e+12</td>\n",
       "      <td>NaN</td>\n",
       "    </tr>\n",
       "  </tbody>\n",
       "</table>\n",
       "</div>"
      ],
      "text/plain": [
       "   Unnamed: 0.1  Unnamed: 0     payment_id  payment_number    due_date  \\\n",
       "0             0           0  2006021951630             1.0  2021-02-07   \n",
       "1             1           1  2006021922761             1.0  2021-02-06   \n",
       "2             2           2  2006023224658             3.0  2021-10-21   \n",
       "3             3           3  2006023527657             2.0  2021-10-21   \n",
       "4             4           4  2006021922762             2.0  2021-03-06   \n",
       "\n",
       "   due_amount   paid_date  paid_amount       loan_id   dpd  \n",
       "0         0.0  2021-03-08    1026000.0  2.005021e+12  29.0  \n",
       "1         0.0  2021-03-08     152000.0  2.005021e+12  30.0  \n",
       "2         0.0  2021-11-20    1083000.0  2.005021e+12  30.0  \n",
       "3         0.0  2021-11-20     805000.0  2.005021e+12  30.0  \n",
       "4         0.0         NaN     140000.0  2.005021e+12   NaN  "
      ]
     },
     "execution_count": 12,
     "metadata": {},
     "output_type": "execute_result"
    }
   ],
   "source": [
    "payment_df.head()"
   ]
  },
  {
   "cell_type": "code",
   "execution_count": 13,
   "id": "5e70e0a2",
   "metadata": {},
   "outputs": [
    {
     "data": {
      "text/html": [
       "<div>\n",
       "<style scoped>\n",
       "    .dataframe tbody tr th:only-of-type {\n",
       "        vertical-align: middle;\n",
       "    }\n",
       "\n",
       "    .dataframe tbody tr th {\n",
       "        vertical-align: top;\n",
       "    }\n",
       "\n",
       "    .dataframe thead th {\n",
       "        text-align: right;\n",
       "    }\n",
       "</style>\n",
       "<table border=\"1\" class=\"dataframe\">\n",
       "  <thead>\n",
       "    <tr style=\"text-align: right;\">\n",
       "      <th></th>\n",
       "      <th>Unnamed: 0.1</th>\n",
       "      <th>Unnamed: 0</th>\n",
       "      <th>payment_id</th>\n",
       "      <th>payment_number</th>\n",
       "      <th>due_amount</th>\n",
       "      <th>paid_amount</th>\n",
       "      <th>loan_id</th>\n",
       "      <th>dpd</th>\n",
       "    </tr>\n",
       "  </thead>\n",
       "  <tbody>\n",
       "    <tr>\n",
       "      <th>count</th>\n",
       "      <td>17911.000000</td>\n",
       "      <td>17911.000000</td>\n",
       "      <td>1.791100e+04</td>\n",
       "      <td>17573.000000</td>\n",
       "      <td>1.756600e+04</td>\n",
       "      <td>1.753500e+04</td>\n",
       "      <td>1.755700e+04</td>\n",
       "      <td>11905.000000</td>\n",
       "    </tr>\n",
       "    <tr>\n",
       "      <th>mean</th>\n",
       "      <td>8955.000000</td>\n",
       "      <td>8955.000000</td>\n",
       "      <td>2.006032e+12</td>\n",
       "      <td>2.945086</td>\n",
       "      <td>1.295985e+05</td>\n",
       "      <td>2.456654e+05</td>\n",
       "      <td>2.005021e+12</td>\n",
       "      <td>11.762453</td>\n",
       "    </tr>\n",
       "    <tr>\n",
       "      <th>std</th>\n",
       "      <td>5170.604671</td>\n",
       "      <td>5170.604671</td>\n",
       "      <td>1.057963e+07</td>\n",
       "      <td>1.907490</td>\n",
       "      <td>3.254287e+05</td>\n",
       "      <td>3.834782e+05</td>\n",
       "      <td>4.163257e+05</td>\n",
       "      <td>33.248717</td>\n",
       "    </tr>\n",
       "    <tr>\n",
       "      <th>min</th>\n",
       "      <td>0.000000</td>\n",
       "      <td>0.000000</td>\n",
       "      <td>2.006022e+12</td>\n",
       "      <td>1.000000</td>\n",
       "      <td>-5.353000e+05</td>\n",
       "      <td>0.000000e+00</td>\n",
       "      <td>2.005021e+12</td>\n",
       "      <td>-230.000000</td>\n",
       "    </tr>\n",
       "    <tr>\n",
       "      <th>25%</th>\n",
       "      <td>4477.500000</td>\n",
       "      <td>4477.500000</td>\n",
       "      <td>2.006023e+12</td>\n",
       "      <td>1.000000</td>\n",
       "      <td>0.000000e+00</td>\n",
       "      <td>0.000000e+00</td>\n",
       "      <td>2.005021e+12</td>\n",
       "      <td>6.000000</td>\n",
       "    </tr>\n",
       "    <tr>\n",
       "      <th>50%</th>\n",
       "      <td>8955.000000</td>\n",
       "      <td>8955.000000</td>\n",
       "      <td>2.006027e+12</td>\n",
       "      <td>3.000000</td>\n",
       "      <td>0.000000e+00</td>\n",
       "      <td>1.130000e+05</td>\n",
       "      <td>2.005021e+12</td>\n",
       "      <td>26.000000</td>\n",
       "    </tr>\n",
       "    <tr>\n",
       "      <th>75%</th>\n",
       "      <td>13432.500000</td>\n",
       "      <td>13432.500000</td>\n",
       "      <td>2.006037e+12</td>\n",
       "      <td>4.000000</td>\n",
       "      <td>1.040000e+05</td>\n",
       "      <td>2.890000e+05</td>\n",
       "      <td>2.005022e+12</td>\n",
       "      <td>29.000000</td>\n",
       "    </tr>\n",
       "    <tr>\n",
       "      <th>max</th>\n",
       "      <td>17910.000000</td>\n",
       "      <td>17910.000000</td>\n",
       "      <td>2.006057e+12</td>\n",
       "      <td>13.000000</td>\n",
       "      <td>3.360000e+06</td>\n",
       "      <td>3.776000e+06</td>\n",
       "      <td>2.005022e+12</td>\n",
       "      <td>236.000000</td>\n",
       "    </tr>\n",
       "  </tbody>\n",
       "</table>\n",
       "</div>"
      ],
      "text/plain": [
       "       Unnamed: 0.1    Unnamed: 0    payment_id  payment_number    due_amount  \\\n",
       "count  17911.000000  17911.000000  1.791100e+04    17573.000000  1.756600e+04   \n",
       "mean    8955.000000   8955.000000  2.006032e+12        2.945086  1.295985e+05   \n",
       "std     5170.604671   5170.604671  1.057963e+07        1.907490  3.254287e+05   \n",
       "min        0.000000      0.000000  2.006022e+12        1.000000 -5.353000e+05   \n",
       "25%     4477.500000   4477.500000  2.006023e+12        1.000000  0.000000e+00   \n",
       "50%     8955.000000   8955.000000  2.006027e+12        3.000000  0.000000e+00   \n",
       "75%    13432.500000  13432.500000  2.006037e+12        4.000000  1.040000e+05   \n",
       "max    17910.000000  17910.000000  2.006057e+12       13.000000  3.360000e+06   \n",
       "\n",
       "        paid_amount       loan_id           dpd  \n",
       "count  1.753500e+04  1.755700e+04  11905.000000  \n",
       "mean   2.456654e+05  2.005021e+12     11.762453  \n",
       "std    3.834782e+05  4.163257e+05     33.248717  \n",
       "min    0.000000e+00  2.005021e+12   -230.000000  \n",
       "25%    0.000000e+00  2.005021e+12      6.000000  \n",
       "50%    1.130000e+05  2.005021e+12     26.000000  \n",
       "75%    2.890000e+05  2.005022e+12     29.000000  \n",
       "max    3.776000e+06  2.005022e+12    236.000000  "
      ]
     },
     "execution_count": 13,
     "metadata": {},
     "output_type": "execute_result"
    }
   ],
   "source": [
    "payment_df.describe()"
   ]
  },
  {
   "cell_type": "markdown",
   "id": "e2d521b3",
   "metadata": {},
   "source": [
    "The `payment` dataset contains the payments made by the customers with regards to their loans. The primary key of this dataset is `payment_id`, and `loan_id` is the foreign key that can be used to connect it with the `loan` dataset."
   ]
  },
  {
   "cell_type": "markdown",
   "id": "7253e654",
   "metadata": {},
   "source": [
    "### Combining all the tables into a single dataframe ###\n",
    "\n",
    "After profiling the data, I handpicked the columns from the joins, so unnamed and duplicate columns are not selected."
   ]
  },
  {
   "cell_type": "code",
   "execution_count": 22,
   "id": "20ecb417",
   "metadata": {},
   "outputs": [
    {
     "data": {
      "text/html": [
       "<div>\n",
       "<style scoped>\n",
       "    .dataframe tbody tr th:only-of-type {\n",
       "        vertical-align: middle;\n",
       "    }\n",
       "\n",
       "    .dataframe tbody tr th {\n",
       "        vertical-align: top;\n",
       "    }\n",
       "\n",
       "    .dataframe thead th {\n",
       "        text-align: right;\n",
       "    }\n",
       "</style>\n",
       "<table border=\"1\" class=\"dataframe\">\n",
       "  <thead>\n",
       "    <tr style=\"text-align: right;\">\n",
       "      <th></th>\n",
       "      <th>cdate</th>\n",
       "      <th>application_id</th>\n",
       "      <th>customer_id</th>\n",
       "      <th>loan_purpose</th>\n",
       "      <th>loan_purpose_desc</th>\n",
       "      <th>dob</th>\n",
       "      <th>address_provinsi</th>\n",
       "      <th>marital_status</th>\n",
       "      <th>dependent</th>\n",
       "      <th>job_type</th>\n",
       "      <th>...</th>\n",
       "      <th>loan_duration</th>\n",
       "      <th>installment_amount</th>\n",
       "      <th>fund_transfer_ts</th>\n",
       "      <th>payment_id</th>\n",
       "      <th>payment_number</th>\n",
       "      <th>due_date</th>\n",
       "      <th>due_amount</th>\n",
       "      <th>paid_date</th>\n",
       "      <th>paid_amount</th>\n",
       "      <th>dpd</th>\n",
       "    </tr>\n",
       "  </thead>\n",
       "  <tbody>\n",
       "    <tr>\n",
       "      <th>0</th>\n",
       "      <td>2021-01-07 13:45:43.876693+00:00</td>\n",
       "      <td>2004025695250</td>\n",
       "      <td>2.003024e+12</td>\n",
       "      <td>Modal usaha</td>\n",
       "      <td>untuk usaha membuat makanan / camilan / kue</td>\n",
       "      <td>2000-01-06</td>\n",
       "      <td>Banten</td>\n",
       "      <td>Lajang</td>\n",
       "      <td>1.0</td>\n",
       "      <td>Pegawai swasta</td>\n",
       "      <td>...</td>\n",
       "      <td>5.0</td>\n",
       "      <td>140000.0</td>\n",
       "      <td>2021-01-24 12:17:45.317242+00:00</td>\n",
       "      <td>2.006022e+12</td>\n",
       "      <td>1.0</td>\n",
       "      <td>2021-03-02</td>\n",
       "      <td>0.0</td>\n",
       "      <td>2021-04-02</td>\n",
       "      <td>149000.0</td>\n",
       "      <td>31.0</td>\n",
       "    </tr>\n",
       "    <tr>\n",
       "      <th>1</th>\n",
       "      <td>2021-01-07 13:45:43.876693+00:00</td>\n",
       "      <td>2004025695250</td>\n",
       "      <td>2.003024e+12</td>\n",
       "      <td>Modal usaha</td>\n",
       "      <td>untuk usaha membuat makanan / camilan / kue</td>\n",
       "      <td>2000-01-06</td>\n",
       "      <td>Banten</td>\n",
       "      <td>Lajang</td>\n",
       "      <td>1.0</td>\n",
       "      <td>Pegawai swasta</td>\n",
       "      <td>...</td>\n",
       "      <td>5.0</td>\n",
       "      <td>140000.0</td>\n",
       "      <td>2021-01-24 12:17:45.317242+00:00</td>\n",
       "      <td>2.006022e+12</td>\n",
       "      <td>2.0</td>\n",
       "      <td>2021-04-02</td>\n",
       "      <td>0.0</td>\n",
       "      <td>2021-05-16</td>\n",
       "      <td>195000.0</td>\n",
       "      <td>44.0</td>\n",
       "    </tr>\n",
       "    <tr>\n",
       "      <th>2</th>\n",
       "      <td>2021-01-07 13:45:43.876693+00:00</td>\n",
       "      <td>2004025695250</td>\n",
       "      <td>2.003024e+12</td>\n",
       "      <td>Modal usaha</td>\n",
       "      <td>untuk usaha membuat makanan / camilan / kue</td>\n",
       "      <td>2000-01-06</td>\n",
       "      <td>Banten</td>\n",
       "      <td>Lajang</td>\n",
       "      <td>1.0</td>\n",
       "      <td>Pegawai swasta</td>\n",
       "      <td>...</td>\n",
       "      <td>5.0</td>\n",
       "      <td>140000.0</td>\n",
       "      <td>2021-01-24 12:17:45.317242+00:00</td>\n",
       "      <td>2.006022e+12</td>\n",
       "      <td>3.0</td>\n",
       "      <td>2021-05-02</td>\n",
       "      <td>NaN</td>\n",
       "      <td>2021-05-30</td>\n",
       "      <td>140000.0</td>\n",
       "      <td>28.0</td>\n",
       "    </tr>\n",
       "    <tr>\n",
       "      <th>3</th>\n",
       "      <td>2021-01-07 13:45:43.876693+00:00</td>\n",
       "      <td>2004025695250</td>\n",
       "      <td>2.003024e+12</td>\n",
       "      <td>Modal usaha</td>\n",
       "      <td>untuk usaha membuat makanan / camilan / kue</td>\n",
       "      <td>2000-01-06</td>\n",
       "      <td>Banten</td>\n",
       "      <td>Lajang</td>\n",
       "      <td>1.0</td>\n",
       "      <td>Pegawai swasta</td>\n",
       "      <td>...</td>\n",
       "      <td>5.0</td>\n",
       "      <td>140000.0</td>\n",
       "      <td>2021-01-24 12:17:45.317242+00:00</td>\n",
       "      <td>2.006022e+12</td>\n",
       "      <td>4.0</td>\n",
       "      <td>2021-06-02</td>\n",
       "      <td>0.0</td>\n",
       "      <td>2021-07-06</td>\n",
       "      <td>140000.0</td>\n",
       "      <td>34.0</td>\n",
       "    </tr>\n",
       "    <tr>\n",
       "      <th>4</th>\n",
       "      <td>2021-01-07 13:45:43.876693+00:00</td>\n",
       "      <td>2004025695250</td>\n",
       "      <td>2.003024e+12</td>\n",
       "      <td>Modal usaha</td>\n",
       "      <td>untuk usaha membuat makanan / camilan / kue</td>\n",
       "      <td>2000-01-06</td>\n",
       "      <td>Banten</td>\n",
       "      <td>Lajang</td>\n",
       "      <td>1.0</td>\n",
       "      <td>Pegawai swasta</td>\n",
       "      <td>...</td>\n",
       "      <td>5.0</td>\n",
       "      <td>140000.0</td>\n",
       "      <td>2021-01-24 12:17:45.317242+00:00</td>\n",
       "      <td>2.006022e+12</td>\n",
       "      <td>5.0</td>\n",
       "      <td>None</td>\n",
       "      <td>0.0</td>\n",
       "      <td>2021-08-02</td>\n",
       "      <td>140000.0</td>\n",
       "      <td>NaN</td>\n",
       "    </tr>\n",
       "  </tbody>\n",
       "</table>\n",
       "<p>5 rows × 23 columns</p>\n",
       "</div>"
      ],
      "text/plain": [
       "                              cdate  application_id   customer_id  \\\n",
       "0  2021-01-07 13:45:43.876693+00:00   2004025695250  2.003024e+12   \n",
       "1  2021-01-07 13:45:43.876693+00:00   2004025695250  2.003024e+12   \n",
       "2  2021-01-07 13:45:43.876693+00:00   2004025695250  2.003024e+12   \n",
       "3  2021-01-07 13:45:43.876693+00:00   2004025695250  2.003024e+12   \n",
       "4  2021-01-07 13:45:43.876693+00:00   2004025695250  2.003024e+12   \n",
       "\n",
       "  loan_purpose                            loan_purpose_desc         dob  \\\n",
       "0  Modal usaha  untuk usaha membuat makanan / camilan / kue  2000-01-06   \n",
       "1  Modal usaha  untuk usaha membuat makanan / camilan / kue  2000-01-06   \n",
       "2  Modal usaha  untuk usaha membuat makanan / camilan / kue  2000-01-06   \n",
       "3  Modal usaha  untuk usaha membuat makanan / camilan / kue  2000-01-06   \n",
       "4  Modal usaha  untuk usaha membuat makanan / camilan / kue  2000-01-06   \n",
       "\n",
       "  address_provinsi marital_status  dependent        job_type  ...  \\\n",
       "0           Banten         Lajang        1.0  Pegawai swasta  ...   \n",
       "1           Banten         Lajang        1.0  Pegawai swasta  ...   \n",
       "2           Banten         Lajang        1.0  Pegawai swasta  ...   \n",
       "3           Banten         Lajang        1.0  Pegawai swasta  ...   \n",
       "4           Banten         Lajang        1.0  Pegawai swasta  ...   \n",
       "\n",
       "  loan_duration  installment_amount                  fund_transfer_ts  \\\n",
       "0           5.0            140000.0  2021-01-24 12:17:45.317242+00:00   \n",
       "1           5.0            140000.0  2021-01-24 12:17:45.317242+00:00   \n",
       "2           5.0            140000.0  2021-01-24 12:17:45.317242+00:00   \n",
       "3           5.0            140000.0  2021-01-24 12:17:45.317242+00:00   \n",
       "4           5.0            140000.0  2021-01-24 12:17:45.317242+00:00   \n",
       "\n",
       "     payment_id  payment_number    due_date  due_amount   paid_date  \\\n",
       "0  2.006022e+12             1.0  2021-03-02         0.0  2021-04-02   \n",
       "1  2.006022e+12             2.0  2021-04-02         0.0  2021-05-16   \n",
       "2  2.006022e+12             3.0  2021-05-02         NaN  2021-05-30   \n",
       "3  2.006022e+12             4.0  2021-06-02         0.0  2021-07-06   \n",
       "4  2.006022e+12             5.0        None         0.0  2021-08-02   \n",
       "\n",
       "  paid_amount   dpd  \n",
       "0    149000.0  31.0  \n",
       "1    195000.0  44.0  \n",
       "2    140000.0  28.0  \n",
       "3    140000.0  34.0  \n",
       "4    140000.0   NaN  \n",
       "\n",
       "[5 rows x 23 columns]"
      ]
     },
     "execution_count": 22,
     "metadata": {},
     "output_type": "execute_result"
    }
   ],
   "source": [
    "query = \"\"\"\n",
    "select\n",
    "    cdate, a.application_id, customer_id, loan_purpose, loan_purpose_desc, dob,\n",
    "    address_provinsi, marital_status, dependent, job_type, job_industry,\n",
    "    l.loan_id, loan_amount, loan_duration, installment_amount, fund_transfer_ts,\n",
    "    payment_id, payment_number, due_date, due_amount, paid_date, paid_amount, dpd\n",
    "from application a\n",
    "left join loan l\n",
    "    on a.application_id = l.application_id\n",
    "left join payment p1\n",
    "    on l.loan_id = p1.loan_id\n",
    "\"\"\"\n",
    "combined_df = query_from_db(query, engine)\n",
    "combined_df.head()"
   ]
  },
  {
   "cell_type": "code",
   "execution_count": 15,
   "id": "dac4d1fb",
   "metadata": {},
   "outputs": [
    {
     "data": {
      "text/plain": [
       "16954"
      ]
     },
     "execution_count": 15,
     "metadata": {},
     "output_type": "execute_result"
    }
   ],
   "source": [
    "# Loading the combined dataframe to the SQLAlchemy engine\n",
    "combined_df.to_sql(name='combined', con=engine, if_exists='replace')"
   ]
  },
  {
   "cell_type": "markdown",
   "id": "35f7adb6",
   "metadata": {},
   "source": [
    "### Checking null values"
   ]
  },
  {
   "cell_type": "code",
   "execution_count": 16,
   "id": "6f7186ae",
   "metadata": {},
   "outputs": [
    {
     "data": {
      "text/plain": [
       "Unnamed: 0           497\n",
       "cdate                454\n",
       "application_id       497\n",
       "customer_id          451\n",
       "loan_purpose         441\n",
       "loan_purpose_desc    443\n",
       "dob                  453\n",
       "address_provinsi     439\n",
       "marital_status       447\n",
       "dependent            444\n",
       "job_type             440\n",
       "job_industry         449\n",
       "dtype: int64"
      ]
     },
     "execution_count": 16,
     "metadata": {},
     "output_type": "execute_result"
    }
   ],
   "source": [
    "# Check the null columns in the Application dataset\n",
    "application_df.count()"
   ]
  },
  {
   "cell_type": "code",
   "execution_count": 17,
   "id": "a9e3f97f",
   "metadata": {},
   "outputs": [
    {
     "data": {
      "text/html": [
       "<div>\n",
       "<style scoped>\n",
       "    .dataframe tbody tr th:only-of-type {\n",
       "        vertical-align: middle;\n",
       "    }\n",
       "\n",
       "    .dataframe tbody tr th {\n",
       "        vertical-align: top;\n",
       "    }\n",
       "\n",
       "    .dataframe thead th {\n",
       "        text-align: right;\n",
       "    }\n",
       "</style>\n",
       "<table border=\"1\" class=\"dataframe\">\n",
       "  <thead>\n",
       "    <tr style=\"text-align: right;\">\n",
       "      <th></th>\n",
       "      <th>row_count</th>\n",
       "      <th>null_cdate_count</th>\n",
       "      <th>null_customer_id_count</th>\n",
       "    </tr>\n",
       "  </thead>\n",
       "  <tbody>\n",
       "    <tr>\n",
       "      <th>0</th>\n",
       "      <td>497</td>\n",
       "      <td>43</td>\n",
       "      <td>46</td>\n",
       "    </tr>\n",
       "  </tbody>\n",
       "</table>\n",
       "</div>"
      ],
      "text/plain": [
       "   row_count  null_cdate_count  null_customer_id_count\n",
       "0        497                43                      46"
      ]
     },
     "execution_count": 17,
     "metadata": {},
     "output_type": "execute_result"
    }
   ],
   "source": [
    "query = \"\"\"\n",
    "select\n",
    "    count(*) as row_count,\n",
    "    count(case when cdate is null then 1 end) as null_cdate_count,\n",
    "    count(case when customer_id is null then 1 end) as null_customer_id_count\n",
    "from application\n",
    "\"\"\"\n",
    "df = query_from_db(query, engine)\n",
    "df.head()"
   ]
  },
  {
   "cell_type": "code",
   "execution_count": 18,
   "id": "514e8ec2",
   "metadata": {},
   "outputs": [
    {
     "data": {
      "text/plain": [
       "Unnamed: 0            5233\n",
       "loan_id               5143\n",
       "loan_amount           5130\n",
       "loan_duration         5132\n",
       "installment_amount    5131\n",
       "fund_transfer_ts      5123\n",
       "application_id        5111\n",
       "dtype: int64"
      ]
     },
     "execution_count": 18,
     "metadata": {},
     "output_type": "execute_result"
    }
   ],
   "source": [
    "# Check the null columns in the Loan dataset\n",
    "loan_df.count()"
   ]
  },
  {
   "cell_type": "code",
   "execution_count": 19,
   "id": "b168a012",
   "metadata": {},
   "outputs": [
    {
     "data": {
      "text/html": [
       "<div>\n",
       "<style scoped>\n",
       "    .dataframe tbody tr th:only-of-type {\n",
       "        vertical-align: middle;\n",
       "    }\n",
       "\n",
       "    .dataframe tbody tr th {\n",
       "        vertical-align: top;\n",
       "    }\n",
       "\n",
       "    .dataframe thead th {\n",
       "        text-align: right;\n",
       "    }\n",
       "</style>\n",
       "<table border=\"1\" class=\"dataframe\">\n",
       "  <thead>\n",
       "    <tr style=\"text-align: right;\">\n",
       "      <th></th>\n",
       "      <th>row_count</th>\n",
       "      <th>null_loan_id_count</th>\n",
       "      <th>null_loan_amount_count</th>\n",
       "      <th>null_loan_duration_count</th>\n",
       "      <th>null_application_id_count</th>\n",
       "    </tr>\n",
       "  </thead>\n",
       "  <tbody>\n",
       "    <tr>\n",
       "      <th>0</th>\n",
       "      <td>5233</td>\n",
       "      <td>90</td>\n",
       "      <td>103</td>\n",
       "      <td>101</td>\n",
       "      <td>122</td>\n",
       "    </tr>\n",
       "  </tbody>\n",
       "</table>\n",
       "</div>"
      ],
      "text/plain": [
       "   row_count  null_loan_id_count  null_loan_amount_count  \\\n",
       "0       5233                  90                     103   \n",
       "\n",
       "   null_loan_duration_count  null_application_id_count  \n",
       "0                       101                        122  "
      ]
     },
     "execution_count": 19,
     "metadata": {},
     "output_type": "execute_result"
    }
   ],
   "source": [
    "query = \"\"\"\n",
    "select\n",
    "    count(*) as row_count,\n",
    "    count(case when loan_id is null then 1 end) as null_loan_id_count,\n",
    "    count(case when loan_amount is null then 1 end) as null_loan_amount_count,\n",
    "    count(case when loan_duration is null then 1 end) as null_loan_duration_count,\n",
    "    count(case when application_id is null then 1 end) as null_application_id_count\n",
    "from loan\n",
    "\"\"\"\n",
    "df = query_from_db(query, engine)\n",
    "df.head()"
   ]
  },
  {
   "cell_type": "code",
   "execution_count": 20,
   "id": "483cfe07",
   "metadata": {
    "scrolled": false
   },
   "outputs": [
    {
     "data": {
      "text/plain": [
       "Unnamed: 0.1      17911\n",
       "Unnamed: 0        17911\n",
       "payment_id        17911\n",
       "payment_number    17573\n",
       "due_date          17512\n",
       "due_amount        17566\n",
       "paid_date         12185\n",
       "paid_amount       17535\n",
       "loan_id           17557\n",
       "dpd               11905\n",
       "dtype: int64"
      ]
     },
     "execution_count": 20,
     "metadata": {},
     "output_type": "execute_result"
    }
   ],
   "source": [
    "# Check the null columns in the Payment dataset\n",
    "payment_df.count()"
   ]
  },
  {
   "cell_type": "code",
   "execution_count": 21,
   "id": "7a87ac4a",
   "metadata": {},
   "outputs": [
    {
     "data": {
      "text/html": [
       "<div>\n",
       "<style scoped>\n",
       "    .dataframe tbody tr th:only-of-type {\n",
       "        vertical-align: middle;\n",
       "    }\n",
       "\n",
       "    .dataframe tbody tr th {\n",
       "        vertical-align: top;\n",
       "    }\n",
       "\n",
       "    .dataframe thead th {\n",
       "        text-align: right;\n",
       "    }\n",
       "</style>\n",
       "<table border=\"1\" class=\"dataframe\">\n",
       "  <thead>\n",
       "    <tr style=\"text-align: right;\">\n",
       "      <th></th>\n",
       "      <th>row_count</th>\n",
       "      <th>null_loan_id_count</th>\n",
       "      <th>null_due_amount_count</th>\n",
       "      <th>null_paid_amount_count</th>\n",
       "    </tr>\n",
       "  </thead>\n",
       "  <tbody>\n",
       "    <tr>\n",
       "      <th>0</th>\n",
       "      <td>17911</td>\n",
       "      <td>354</td>\n",
       "      <td>345</td>\n",
       "      <td>376</td>\n",
       "    </tr>\n",
       "  </tbody>\n",
       "</table>\n",
       "</div>"
      ],
      "text/plain": [
       "   row_count  null_loan_id_count  null_due_amount_count  \\\n",
       "0      17911                 354                    345   \n",
       "\n",
       "   null_paid_amount_count  \n",
       "0                     376  "
      ]
     },
     "execution_count": 21,
     "metadata": {},
     "output_type": "execute_result"
    }
   ],
   "source": [
    "query = \"\"\"\n",
    "select\n",
    "    count(*) as row_count,\n",
    "    count(case when loan_id is null then 1 end) as null_loan_id_count,\n",
    "    count(case when due_amount is null then 1 end) as null_due_amount_count,\n",
    "    count(case when paid_amount is null then 1 end) as null_paid_amount_count\n",
    "from payment\n",
    "\"\"\"\n",
    "df = query_from_db(query, engine)\n",
    "df.head()"
   ]
  },
  {
   "cell_type": "markdown",
   "id": "8e84641c",
   "metadata": {},
   "source": [
    "### Dropping the null values"
   ]
  },
  {
   "cell_type": "code",
   "execution_count": 24,
   "id": "c4b19129",
   "metadata": {},
   "outputs": [],
   "source": [
    "application_df_clean = application_df.dropna()\n",
    "loan_df_clean = loan_df.dropna()\n",
    "payment_df_clean = payment_df.dropna()"
   ]
  },
  {
   "cell_type": "markdown",
   "id": "2bf469f3",
   "metadata": {},
   "source": [
    "### More findings on the data\n",
    "\n",
    "- The relationship of the datasets is **one-to-many**, as in, one `application_id` has many `loan_id` and one `loan_id` has many `payment_id`.\n",
    "- The `application` dataset has null values where it should not be, especially **cdate** and **customer_id**.\n",
    "- The `loan` dataset has null values where it should not be, especially **loan_id**, **loan_amount**, **loan_duration**, and **application_id**.\n",
    "- The `payment` dataset has null values where it should not be, especially **paid_amount** and **loan_id**.\n",
    "- In order to use the datasets for modeling, we should drop the nulls."
   ]
  },
  {
   "cell_type": "markdown",
   "id": "dcf0a904",
   "metadata": {},
   "source": [
    "### Checking for outliers"
   ]
  },
  {
   "cell_type": "code",
   "execution_count": 98,
   "id": "fa59dcc9",
   "metadata": {},
   "outputs": [
    {
     "data": {
      "text/plain": [
       "11004"
      ]
     },
     "execution_count": 98,
     "metadata": {},
     "output_type": "execute_result"
    }
   ],
   "source": [
    "# Insert data from the cleaned DataFrames to SQL Alchemy Engine\n",
    "application_df_clean.to_sql(name='application_clean', con=engine, if_exists='replace')\n",
    "loan_df_clean.to_sql(name='loan_clean', con=engine, if_exists='replace')\n",
    "payment1_df_clean.to_sql(name='payment1_clean', con=engine, if_exists='replace')\n",
    "payment2_df_clean.to_sql(name='payment2_clean', con=engine, if_exists='replace')"
   ]
  },
  {
   "cell_type": "code",
   "execution_count": 189,
   "id": "826f5ca7",
   "metadata": {},
   "outputs": [],
   "source": [
    "import seaborn as sns\n",
    "import matplotlib.pyplot as plt"
   ]
  },
  {
   "cell_type": "code",
   "execution_count": 69,
   "id": "fa927172",
   "metadata": {
    "scrolled": false
   },
   "outputs": [
    {
     "data": {
      "text/plain": [
       "<AxesSubplot: >"
      ]
     },
     "execution_count": 69,
     "metadata": {},
     "output_type": "execute_result"
    },
    {
     "data": {
      "image/png": "[encoded data removed]",
      "text/plain": [
       "<Figure size 640x480 with 1 Axes>"
      ]
     },
     "metadata": {},
     "output_type": "display_data"
    }
   ],
   "source": [
    "# Drawing boxplots to check for outliers\n",
    "sns.boxplot(loan_df_clean[\"loan_amount\"])"
   ]
  },
  {
   "cell_type": "code",
   "execution_count": 68,
   "id": "a2a7248d",
   "metadata": {},
   "outputs": [
    {
     "name": "stdout",
     "output_type": "stream",
     "text": [
      "53579.0 1000000.0 946421.0\n"
     ]
    }
   ],
   "source": [
    "# Finding the IQR\n",
    "q1 = loan_df_clean[\"loan_amount\"].quantile(0.25)\n",
    "q3 = loan_df_clean[\"loan_amount\"].quantile(0.75)\n",
    "iqr = q3 - q1\n",
    "print(q1, q3, iqr)"
   ]
  },
  {
   "cell_type": "code",
   "execution_count": 100,
   "id": "42073497",
   "metadata": {},
   "outputs": [],
   "source": [
    "# Removing the outliers by getting only the non-outliers\n",
    "query = \"\"\"\n",
    "select * from loan\n",
    "where\n",
    "    loan_amount >= 53579 - (1.5 * 946421)\n",
    "    or loan_amount <= 1000000 + (1.5 * 946421)\n",
    "\"\"\"\n",
    "loan_df_clean = query_from_db(query, engine)"
   ]
  },
  {
   "cell_type": "code",
   "execution_count": 63,
   "id": "7e9116c1",
   "metadata": {
    "scrolled": false
   },
   "outputs": [
    {
     "data": {
      "text/plain": [
       "<AxesSubplot: >"
      ]
     },
     "execution_count": 63,
     "metadata": {},
     "output_type": "execute_result"
    },
    {
     "data": {
      "image/png": "[encoded data removed]",
      "text/plain": [
       "<Figure size 640x480 with 1 Axes>"
      ]
     },
     "metadata": {},
     "output_type": "display_data"
    }
   ],
   "source": [
    "sns.boxplot(loan_df_clean[\"installment_amount\"])"
   ]
  },
  {
   "cell_type": "code",
   "execution_count": 94,
   "id": "b987a0d5",
   "metadata": {},
   "outputs": [
    {
     "name": "stdout",
     "output_type": "stream",
     "text": [
      "57411.75 289000.0 231588.25\n"
     ]
    }
   ],
   "source": [
    "q1 = loan_df_clean[\"installment_amount\"].quantile(0.25)\n",
    "q3 = loan_df_clean[\"installment_amount\"].quantile(0.75)\n",
    "iqr = q3 - q1\n",
    "print(q1, q3, iqr)"
   ]
  },
  {
   "cell_type": "code",
   "execution_count": 102,
   "id": "dee30e5d",
   "metadata": {},
   "outputs": [],
   "source": [
    "query = \"\"\"\n",
    "select * from loan\n",
    "where\n",
    "    installment_amount >= 57411.75 - (1.5 * 231588.25)\n",
    "    or installment_amount <= 289000 + (1.5 * 231588.25)\n",
    "\"\"\"\n",
    "loan_df_clean = query_from_db(query, engine)"
   ]
  },
  {
   "cell_type": "code",
   "execution_count": 64,
   "id": "d51f20ab",
   "metadata": {},
   "outputs": [
    {
     "data": {
      "text/plain": [
       "<AxesSubplot: >"
      ]
     },
     "execution_count": 64,
     "metadata": {},
     "output_type": "execute_result"
    },
    {
     "data": {
      "image/png": "[encoded data removed]",
      "text/plain": [
       "<Figure size 640x480 with 1 Axes>"
      ]
     },
     "metadata": {},
     "output_type": "display_data"
    }
   ],
   "source": [
    "sns.boxplot(payment1_df_clean[\"paid_amount\"])"
   ]
  },
  {
   "cell_type": "code",
   "execution_count": 96,
   "id": "cd23ab60",
   "metadata": {},
   "outputs": [
    {
     "name": "stdout",
     "output_type": "stream",
     "text": [
      "106000.0 448000.0 342000.0\n"
     ]
    }
   ],
   "source": [
    "q1 = payment1_df_clean[\"paid_amount\"].quantile(0.25)\n",
    "q3 = payment1_df_clean[\"paid_amount\"].quantile(0.75)\n",
    "iqr = q3 - q1\n",
    "print(q1, q3, iqr)"
   ]
  },
  {
   "cell_type": "code",
   "execution_count": 103,
   "id": "b28a6b08",
   "metadata": {},
   "outputs": [],
   "source": [
    "query = \"\"\"\n",
    "select * from payment1\n",
    "where\n",
    "    paid_amount >= 106000 - (1.5 * 342000)\n",
    "    or paid_amount <= 448000 + (1.5 * 342000)\n",
    "\"\"\"\n",
    "payment1_df_clean = query_from_db(query, engine)"
   ]
  },
  {
   "cell_type": "code",
   "execution_count": 106,
   "id": "6e28774f",
   "metadata": {
    "scrolled": true
   },
   "outputs": [
    {
     "data": {
      "text/plain": [
       "17535"
      ]
     },
     "execution_count": 106,
     "metadata": {},
     "output_type": "execute_result"
    }
   ],
   "source": [
    "# Replace the tables after removing outliers\n",
    "loan_df_clean.to_sql(name='loan_clean', con=engine, if_exists='replace')\n",
    "payment1_df_clean.to_sql(name='payment1_clean', con=engine, if_exists='replace')\n",
    "payment1_df_clean.to_sql(name='payment2_clean', con=engine, if_exists='replace')"
   ]
  },
  {
   "cell_type": "markdown",
   "id": "10a01427",
   "metadata": {},
   "source": [
    "### Conclusions on the outliers\n",
    "- The black dots in the box plot are outliers.\n",
    "- There are no outliers in the `application` dataset since all the fields are categorical.\n",
    "- **loan_amount** and **installment_amount** in the `loan` dataset seem to have many outliers.\n",
    "- **paid_amount** and **due_amount** in the `payment` dataset also seem to have many outliers.\n",
    "- The outliers are removed using the IQR; any values below 1.5 IQR from the 25th percentile and above 1.5 IQR from the 75th percentile are outliers."
   ]
  },
  {
   "cell_type": "markdown",
   "id": "dcb3e16b-fde6-47e3-b254-89e5f4eb4544",
   "metadata": {
    "id": "dcb3e16b-fde6-47e3-b254-89e5f4eb4544",
    "tags": []
   },
   "source": [
    "## Label Analysis"
   ]
  },
  {
   "cell_type": "markdown",
   "id": "7a26afe8-3b68-4612-97fc-f681cdbe8ae0",
   "metadata": {
    "id": "7a26afe8-3b68-4612-97fc-f681cdbe8ae0"
   },
   "source": [
    "1. We don't want to give credit to `bad` customers (customers that don't pay at all). Can you define what a `bad` customers is from the dataset provided and what is the earliest indicator to say that a customer is `bad`?\n",
    "2. Based on the label that you defined, what kind of trends do you see in the data that distinguish good and bad customers?"
   ]
  },
  {
   "cell_type": "code",
   "execution_count": 110,
   "id": "b8feaece",
   "metadata": {},
   "outputs": [
    {
     "data": {
      "text/html": [
       "<div>\n",
       "<style scoped>\n",
       "    .dataframe tbody tr th:only-of-type {\n",
       "        vertical-align: middle;\n",
       "    }\n",
       "\n",
       "    .dataframe tbody tr th {\n",
       "        vertical-align: top;\n",
       "    }\n",
       "\n",
       "    .dataframe thead th {\n",
       "        text-align: right;\n",
       "    }\n",
       "</style>\n",
       "<table border=\"1\" class=\"dataframe\">\n",
       "  <thead>\n",
       "    <tr style=\"text-align: right;\">\n",
       "      <th></th>\n",
       "      <th>cdate</th>\n",
       "      <th>application_id</th>\n",
       "      <th>customer_id</th>\n",
       "      <th>loan_purpose</th>\n",
       "      <th>loan_purpose_desc</th>\n",
       "      <th>dob</th>\n",
       "      <th>address_provinsi</th>\n",
       "      <th>marital_status</th>\n",
       "      <th>dependent</th>\n",
       "      <th>job_type</th>\n",
       "      <th>...</th>\n",
       "      <th>loan_duration</th>\n",
       "      <th>installment_amount</th>\n",
       "      <th>fund_transfer_ts</th>\n",
       "      <th>payment_id</th>\n",
       "      <th>payment_number</th>\n",
       "      <th>due_date</th>\n",
       "      <th>due_amount</th>\n",
       "      <th>paid_date</th>\n",
       "      <th>paid_amount</th>\n",
       "      <th>dpd</th>\n",
       "    </tr>\n",
       "  </thead>\n",
       "  <tbody>\n",
       "    <tr>\n",
       "      <th>0</th>\n",
       "      <td>2021-01-07 13:45:43.876693+00:00</td>\n",
       "      <td>2004025695250</td>\n",
       "      <td>2.003024e+12</td>\n",
       "      <td>Modal usaha</td>\n",
       "      <td>untuk usaha membuat makanan / camilan / kue</td>\n",
       "      <td>2000-01-06</td>\n",
       "      <td>Banten</td>\n",
       "      <td>Lajang</td>\n",
       "      <td>1.0</td>\n",
       "      <td>Pegawai swasta</td>\n",
       "      <td>...</td>\n",
       "      <td>5.0</td>\n",
       "      <td>140000.0</td>\n",
       "      <td>2021-01-24 12:17:45.317242+00:00</td>\n",
       "      <td>2.006022e+12</td>\n",
       "      <td>1.0</td>\n",
       "      <td>2021-03-02</td>\n",
       "      <td>0.0</td>\n",
       "      <td>2021-04-02</td>\n",
       "      <td>149000.0</td>\n",
       "      <td>31.0</td>\n",
       "    </tr>\n",
       "    <tr>\n",
       "      <th>1</th>\n",
       "      <td>2021-01-07 13:45:43.876693+00:00</td>\n",
       "      <td>2004025695250</td>\n",
       "      <td>2.003024e+12</td>\n",
       "      <td>Modal usaha</td>\n",
       "      <td>untuk usaha membuat makanan / camilan / kue</td>\n",
       "      <td>2000-01-06</td>\n",
       "      <td>Banten</td>\n",
       "      <td>Lajang</td>\n",
       "      <td>1.0</td>\n",
       "      <td>Pegawai swasta</td>\n",
       "      <td>...</td>\n",
       "      <td>5.0</td>\n",
       "      <td>140000.0</td>\n",
       "      <td>2021-01-24 12:17:45.317242+00:00</td>\n",
       "      <td>2.006022e+12</td>\n",
       "      <td>2.0</td>\n",
       "      <td>2021-04-02</td>\n",
       "      <td>0.0</td>\n",
       "      <td>2021-05-16</td>\n",
       "      <td>195000.0</td>\n",
       "      <td>44.0</td>\n",
       "    </tr>\n",
       "    <tr>\n",
       "      <th>2</th>\n",
       "      <td>2021-01-07 13:45:43.876693+00:00</td>\n",
       "      <td>2004025695250</td>\n",
       "      <td>2.003024e+12</td>\n",
       "      <td>Modal usaha</td>\n",
       "      <td>untuk usaha membuat makanan / camilan / kue</td>\n",
       "      <td>2000-01-06</td>\n",
       "      <td>Banten</td>\n",
       "      <td>Lajang</td>\n",
       "      <td>1.0</td>\n",
       "      <td>Pegawai swasta</td>\n",
       "      <td>...</td>\n",
       "      <td>5.0</td>\n",
       "      <td>140000.0</td>\n",
       "      <td>2021-01-24 12:17:45.317242+00:00</td>\n",
       "      <td>2.006022e+12</td>\n",
       "      <td>3.0</td>\n",
       "      <td>2021-05-02</td>\n",
       "      <td>NaN</td>\n",
       "      <td>2021-05-30</td>\n",
       "      <td>140000.0</td>\n",
       "      <td>28.0</td>\n",
       "    </tr>\n",
       "    <tr>\n",
       "      <th>3</th>\n",
       "      <td>2021-01-07 13:45:43.876693+00:00</td>\n",
       "      <td>2004025695250</td>\n",
       "      <td>2.003024e+12</td>\n",
       "      <td>Modal usaha</td>\n",
       "      <td>untuk usaha membuat makanan / camilan / kue</td>\n",
       "      <td>2000-01-06</td>\n",
       "      <td>Banten</td>\n",
       "      <td>Lajang</td>\n",
       "      <td>1.0</td>\n",
       "      <td>Pegawai swasta</td>\n",
       "      <td>...</td>\n",
       "      <td>5.0</td>\n",
       "      <td>140000.0</td>\n",
       "      <td>2021-01-24 12:17:45.317242+00:00</td>\n",
       "      <td>2.006022e+12</td>\n",
       "      <td>4.0</td>\n",
       "      <td>2021-06-02</td>\n",
       "      <td>0.0</td>\n",
       "      <td>2021-07-06</td>\n",
       "      <td>140000.0</td>\n",
       "      <td>34.0</td>\n",
       "    </tr>\n",
       "    <tr>\n",
       "      <th>4</th>\n",
       "      <td>2021-01-07 13:45:43.876693+00:00</td>\n",
       "      <td>2004025695250</td>\n",
       "      <td>2.003024e+12</td>\n",
       "      <td>Modal usaha</td>\n",
       "      <td>untuk usaha membuat makanan / camilan / kue</td>\n",
       "      <td>2000-01-06</td>\n",
       "      <td>Banten</td>\n",
       "      <td>Lajang</td>\n",
       "      <td>1.0</td>\n",
       "      <td>Pegawai swasta</td>\n",
       "      <td>...</td>\n",
       "      <td>5.0</td>\n",
       "      <td>140000.0</td>\n",
       "      <td>2021-01-24 12:17:45.317242+00:00</td>\n",
       "      <td>2.006022e+12</td>\n",
       "      <td>5.0</td>\n",
       "      <td>None</td>\n",
       "      <td>0.0</td>\n",
       "      <td>2021-08-02</td>\n",
       "      <td>140000.0</td>\n",
       "      <td>NaN</td>\n",
       "    </tr>\n",
       "  </tbody>\n",
       "</table>\n",
       "<p>5 rows × 23 columns</p>\n",
       "</div>"
      ],
      "text/plain": [
       "                              cdate  application_id   customer_id  \\\n",
       "0  2021-01-07 13:45:43.876693+00:00   2004025695250  2.003024e+12   \n",
       "1  2021-01-07 13:45:43.876693+00:00   2004025695250  2.003024e+12   \n",
       "2  2021-01-07 13:45:43.876693+00:00   2004025695250  2.003024e+12   \n",
       "3  2021-01-07 13:45:43.876693+00:00   2004025695250  2.003024e+12   \n",
       "4  2021-01-07 13:45:43.876693+00:00   2004025695250  2.003024e+12   \n",
       "\n",
       "  loan_purpose                            loan_purpose_desc         dob  \\\n",
       "0  Modal usaha  untuk usaha membuat makanan / camilan / kue  2000-01-06   \n",
       "1  Modal usaha  untuk usaha membuat makanan / camilan / kue  2000-01-06   \n",
       "2  Modal usaha  untuk usaha membuat makanan / camilan / kue  2000-01-06   \n",
       "3  Modal usaha  untuk usaha membuat makanan / camilan / kue  2000-01-06   \n",
       "4  Modal usaha  untuk usaha membuat makanan / camilan / kue  2000-01-06   \n",
       "\n",
       "  address_provinsi marital_status  dependent        job_type  ...  \\\n",
       "0           Banten         Lajang        1.0  Pegawai swasta  ...   \n",
       "1           Banten         Lajang        1.0  Pegawai swasta  ...   \n",
       "2           Banten         Lajang        1.0  Pegawai swasta  ...   \n",
       "3           Banten         Lajang        1.0  Pegawai swasta  ...   \n",
       "4           Banten         Lajang        1.0  Pegawai swasta  ...   \n",
       "\n",
       "  loan_duration  installment_amount                  fund_transfer_ts  \\\n",
       "0           5.0            140000.0  2021-01-24 12:17:45.317242+00:00   \n",
       "1           5.0            140000.0  2021-01-24 12:17:45.317242+00:00   \n",
       "2           5.0            140000.0  2021-01-24 12:17:45.317242+00:00   \n",
       "3           5.0            140000.0  2021-01-24 12:17:45.317242+00:00   \n",
       "4           5.0            140000.0  2021-01-24 12:17:45.317242+00:00   \n",
       "\n",
       "     payment_id  payment_number    due_date  due_amount   paid_date  \\\n",
       "0  2.006022e+12             1.0  2021-03-02         0.0  2021-04-02   \n",
       "1  2.006022e+12             2.0  2021-04-02         0.0  2021-05-16   \n",
       "2  2.006022e+12             3.0  2021-05-02         NaN  2021-05-30   \n",
       "3  2.006022e+12             4.0  2021-06-02         0.0  2021-07-06   \n",
       "4  2.006022e+12             5.0        None         0.0  2021-08-02   \n",
       "\n",
       "  paid_amount   dpd  \n",
       "0    149000.0  31.0  \n",
       "1    195000.0  44.0  \n",
       "2    140000.0  28.0  \n",
       "3    140000.0  34.0  \n",
       "4    140000.0   NaN  \n",
       "\n",
       "[5 rows x 23 columns]"
      ]
     },
     "execution_count": 110,
     "metadata": {},
     "output_type": "execute_result"
    }
   ],
   "source": [
    "# Creating a combined dataframe with cleaned data\n",
    "\n",
    "query = \"\"\"\n",
    "select\n",
    "    cdate, a.application_id, customer_id, loan_purpose, loan_purpose_desc, dob,\n",
    "    address_provinsi, marital_status, dependent, job_type, job_industry,\n",
    "    l.loan_id, loan_amount, loan_duration, installment_amount, fund_transfer_ts,\n",
    "    payment_id, payment_number, due_date, due_amount, paid_date, paid_amount, dpd\n",
    "from application_clean a\n",
    "left join loan_clean l\n",
    "    on a.application_id = l.application_id\n",
    "left join payment1_clean p1\n",
    "    on l.loan_id = p1.loan_id\n",
    "\"\"\"\n",
    "combined_df_clean = query_from_db(query, engine)\n",
    "combined_df_clean.head()"
   ]
  },
  {
   "cell_type": "code",
   "execution_count": 112,
   "id": "e97ad332",
   "metadata": {},
   "outputs": [
    {
     "data": {
      "text/plain": [
       "4763"
      ]
     },
     "execution_count": 112,
     "metadata": {},
     "output_type": "execute_result"
    }
   ],
   "source": [
    "# Loading the cleaned and combined dataframe to the SQLAlchemy engine\n",
    "combined_df_clean.to_sql(name='combined_clean', con=engine, if_exists='replace')"
   ]
  },
  {
   "cell_type": "markdown",
   "id": "2993bc9f",
   "metadata": {},
   "source": [
    "### Defining bad customer\n",
    "`Bad` customers (don't pay at all) can be identified by the number of payments they have made. These bad customers have `0` number of payments."
   ]
  },
  {
   "cell_type": "code",
   "execution_count": 143,
   "id": "ed19d1a8",
   "metadata": {},
   "outputs": [
    {
     "name": "stdout",
     "output_type": "stream",
     "text": [
      "      customer_id       loan_id  number_of_payments\n",
      "0    2.003020e+12  2.005021e+12                   0\n",
      "1    2.003021e+12  2.005021e+12                   0\n",
      "2    2.003021e+12  2.005021e+12                   0\n",
      "3    2.003021e+12  2.005021e+12                   0\n",
      "4    2.003021e+12  2.005021e+12                   0\n",
      "..            ...           ...                 ...\n",
      "222  2.003025e+12  2.005022e+12                   0\n",
      "223  2.003025e+12  2.005022e+12                   0\n",
      "224  2.003025e+12  2.005022e+12                   0\n",
      "225  2.003025e+12  2.005022e+12                   0\n",
      "226  2.003025e+12  2.005022e+12                   0\n",
      "\n",
      "[227 rows x 3 columns]\n"
     ]
    }
   ],
   "source": [
    "# Counting customers who have loans but never made a payment\n",
    "query = \"\"\"\n",
    "select\n",
    "    customer_id,\n",
    "    loan_id,\n",
    "    count(distinct paid_date) as number_of_payments\n",
    "from combined_clean\n",
    "where loan_id is not null\n",
    "group by 1, 2\n",
    "having number_of_payments = 0\n",
    "\"\"\"\n",
    "bad_customer_df = query_from_db(query, engine)\n",
    "print(bad_customer_df)"
   ]
  },
  {
   "cell_type": "markdown",
   "id": "bfd4ae44",
   "metadata": {},
   "source": [
    "There are 227 customer-loan pairs who don't pay at all."
   ]
  },
  {
   "cell_type": "code",
   "execution_count": 144,
   "id": "23f13120",
   "metadata": {},
   "outputs": [
    {
     "name": "stdout",
     "output_type": "stream",
     "text": [
      "       customer_id       loan_id  number_of_payments\n",
      "0     2.003020e+12  2.005021e+12                   4\n",
      "1     2.003020e+12  2.005021e+12                   3\n",
      "2     2.003020e+12  2.005021e+12                   4\n",
      "3     2.003020e+12  2.005021e+12                   3\n",
      "4     2.003020e+12  2.005021e+12                   3\n",
      "...            ...           ...                 ...\n",
      "1518  2.003025e+12  2.005021e+12                   3\n",
      "1519  2.003025e+12  2.005021e+12                   3\n",
      "1520  2.003025e+12  2.005022e+12                   2\n",
      "1521  2.003025e+12  2.005022e+12                   2\n",
      "1522  2.003025e+12  2.005022e+12                   2\n",
      "\n",
      "[1523 rows x 3 columns]\n"
     ]
    }
   ],
   "source": [
    "# Counting customers who have loans and made payments\n",
    "query = \"\"\"\n",
    "select\n",
    "    customer_id,\n",
    "    loan_id,\n",
    "    count(distinct paid_date) as number_of_payments\n",
    "from combined_clean\n",
    "where loan_id is not null\n",
    "group by 1, 2\n",
    "having number_of_payments > 0\n",
    "\"\"\"\n",
    "good_customer_df = query_from_db(query, engine)\n",
    "print(good_customer_df)"
   ]
  },
  {
   "cell_type": "markdown",
   "id": "cb3625f0",
   "metadata": {},
   "source": [
    "There are 1523 customer-loan pairs who have made payments."
   ]
  },
  {
   "cell_type": "code",
   "execution_count": 145,
   "id": "b5b73974",
   "metadata": {},
   "outputs": [
    {
     "data": {
      "text/plain": [
       "227"
      ]
     },
     "execution_count": 145,
     "metadata": {},
     "output_type": "execute_result"
    }
   ],
   "source": [
    "# Loading the bad customer dataframe to the SQLAlchemy engine\n",
    "bad_customer_df.to_sql(name='bad_customer', con=engine, if_exists='replace')"
   ]
  },
  {
   "cell_type": "code",
   "execution_count": 152,
   "id": "2ec69b88",
   "metadata": {
    "scrolled": false
   },
   "outputs": [
    {
     "data": {
      "text/html": [
       "<div>\n",
       "<style scoped>\n",
       "    .dataframe tbody tr th:only-of-type {\n",
       "        vertical-align: middle;\n",
       "    }\n",
       "\n",
       "    .dataframe tbody tr th {\n",
       "        vertical-align: top;\n",
       "    }\n",
       "\n",
       "    .dataframe thead th {\n",
       "        text-align: right;\n",
       "    }\n",
       "</style>\n",
       "<table border=\"1\" class=\"dataframe\">\n",
       "  <thead>\n",
       "    <tr style=\"text-align: right;\">\n",
       "      <th></th>\n",
       "      <th>index</th>\n",
       "      <th>Unnamed: 0</th>\n",
       "      <th>cdate</th>\n",
       "      <th>application_id</th>\n",
       "      <th>customer_id</th>\n",
       "      <th>loan_purpose</th>\n",
       "      <th>loan_purpose_desc</th>\n",
       "      <th>dob</th>\n",
       "      <th>address_provinsi</th>\n",
       "      <th>marital_status</th>\n",
       "      <th>dependent</th>\n",
       "      <th>job_type</th>\n",
       "      <th>job_industry</th>\n",
       "    </tr>\n",
       "  </thead>\n",
       "  <tbody>\n",
       "    <tr>\n",
       "      <th>0</th>\n",
       "      <td>0</td>\n",
       "      <td>0</td>\n",
       "      <td>2021-01-07 13:45:43.876693+00:00</td>\n",
       "      <td>2004025695250</td>\n",
       "      <td>2.003024e+12</td>\n",
       "      <td>Modal usaha</td>\n",
       "      <td>untuk usaha membuat makanan / camilan / kue</td>\n",
       "      <td>2000-01-06</td>\n",
       "      <td>Banten</td>\n",
       "      <td>Lajang</td>\n",
       "      <td>1.0</td>\n",
       "      <td>Pegawai swasta</td>\n",
       "      <td>Admin / Finance / HR</td>\n",
       "    </tr>\n",
       "    <tr>\n",
       "      <th>1</th>\n",
       "      <td>6</td>\n",
       "      <td>6</td>\n",
       "      <td>2021-01-09 08:56:42.650351+00:00</td>\n",
       "      <td>2004025703643</td>\n",
       "      <td>2.003021e+12</td>\n",
       "      <td>Renovasi Rumah</td>\n",
       "      <td>untuk merenovasi rumah yang saya tempati</td>\n",
       "      <td>1983-03-26</td>\n",
       "      <td>JAWA BARAT</td>\n",
       "      <td>Menikah</td>\n",
       "      <td>2.0</td>\n",
       "      <td>Pegawai swasta</td>\n",
       "      <td>Entertainment / Event</td>\n",
       "    </tr>\n",
       "    <tr>\n",
       "      <th>2</th>\n",
       "      <td>12</td>\n",
       "      <td>12</td>\n",
       "      <td>2021-02-05 07:57:43.608429+00:00</td>\n",
       "      <td>2004025871472</td>\n",
       "      <td>2.003024e+12</td>\n",
       "      <td>Biaya kesehatan</td>\n",
       "      <td>biaya kesehatan orang tua di kampung ( transfe...</td>\n",
       "      <td>1999-10-19</td>\n",
       "      <td>DKI Jakarta</td>\n",
       "      <td>Lajang</td>\n",
       "      <td>0.0</td>\n",
       "      <td>Pegawai swasta</td>\n",
       "      <td>Sales / Marketing</td>\n",
       "    </tr>\n",
       "    <tr>\n",
       "      <th>3</th>\n",
       "      <td>13</td>\n",
       "      <td>13</td>\n",
       "      <td>2021-04-04 05:05:38.216675+00:00</td>\n",
       "      <td>2004026292493</td>\n",
       "      <td>2.003023e+12</td>\n",
       "      <td>Renovasi Rumah</td>\n",
       "      <td>untuk membangun rumah di kp Tanggeung cianjur ...</td>\n",
       "      <td>1995-02-05</td>\n",
       "      <td>Jawa Barat</td>\n",
       "      <td>Lajang</td>\n",
       "      <td>0.0</td>\n",
       "      <td>Pegawai swasta</td>\n",
       "      <td>Sales / Marketing</td>\n",
       "    </tr>\n",
       "    <tr>\n",
       "      <th>4</th>\n",
       "      <td>22</td>\n",
       "      <td>22</td>\n",
       "      <td>2021-02-10 00:11:01.884478+00:00</td>\n",
       "      <td>2004025907167</td>\n",
       "      <td>2.003023e+12</td>\n",
       "      <td>Modal usaha</td>\n",
       "      <td>mau mencoba berwirausaha pempek dan cuanki ger...</td>\n",
       "      <td>1994-02-20</td>\n",
       "      <td>Jawa Barat</td>\n",
       "      <td>Menikah</td>\n",
       "      <td>0.0</td>\n",
       "      <td>Pegawai swasta</td>\n",
       "      <td>Perhotelan</td>\n",
       "    </tr>\n",
       "  </tbody>\n",
       "</table>\n",
       "</div>"
      ],
      "text/plain": [
       "   index  Unnamed: 0                             cdate  application_id  \\\n",
       "0      0           0  2021-01-07 13:45:43.876693+00:00   2004025695250   \n",
       "1      6           6  2021-01-09 08:56:42.650351+00:00   2004025703643   \n",
       "2     12          12  2021-02-05 07:57:43.608429+00:00   2004025871472   \n",
       "3     13          13  2021-04-04 05:05:38.216675+00:00   2004026292493   \n",
       "4     22          22  2021-02-10 00:11:01.884478+00:00   2004025907167   \n",
       "\n",
       "    customer_id     loan_purpose  \\\n",
       "0  2.003024e+12      Modal usaha   \n",
       "1  2.003021e+12   Renovasi Rumah   \n",
       "2  2.003024e+12  Biaya kesehatan   \n",
       "3  2.003023e+12   Renovasi Rumah   \n",
       "4  2.003023e+12      Modal usaha   \n",
       "\n",
       "                                   loan_purpose_desc         dob  \\\n",
       "0        untuk usaha membuat makanan / camilan / kue  2000-01-06   \n",
       "1           untuk merenovasi rumah yang saya tempati  1983-03-26   \n",
       "2  biaya kesehatan orang tua di kampung ( transfe...  1999-10-19   \n",
       "3  untuk membangun rumah di kp Tanggeung cianjur ...  1995-02-05   \n",
       "4  mau mencoba berwirausaha pempek dan cuanki ger...  1994-02-20   \n",
       "\n",
       "  address_provinsi marital_status  dependent        job_type  \\\n",
       "0           Banten         Lajang        1.0  Pegawai swasta   \n",
       "1       JAWA BARAT        Menikah        2.0  Pegawai swasta   \n",
       "2      DKI Jakarta         Lajang        0.0  Pegawai swasta   \n",
       "3       Jawa Barat         Lajang        0.0  Pegawai swasta   \n",
       "4       Jawa Barat        Menikah        0.0  Pegawai swasta   \n",
       "\n",
       "            job_industry  \n",
       "0   Admin / Finance / HR  \n",
       "1  Entertainment / Event  \n",
       "2      Sales / Marketing  \n",
       "3      Sales / Marketing  \n",
       "4             Perhotelan  "
      ]
     },
     "execution_count": 152,
     "metadata": {},
     "output_type": "execute_result"
    }
   ],
   "source": [
    "# Getting the profile of bad customers\n",
    "query = \"\"\"\n",
    "select * from application_clean\n",
    "where customer_id in (select customer_id from bad_customer)\n",
    "\"\"\"\n",
    "bad_customer_application_df = query_from_db(query, engine)\n",
    "bad_customer_application_df.head()"
   ]
  },
  {
   "cell_type": "code",
   "execution_count": 153,
   "id": "21dba6aa",
   "metadata": {},
   "outputs": [
    {
     "data": {
      "text/plain": [
       "68"
      ]
     },
     "execution_count": 153,
     "metadata": {},
     "output_type": "execute_result"
    }
   ],
   "source": [
    "bad_customer_application_df.to_sql(name='bad_customer_application', con=engine, if_exists='replace')"
   ]
  },
  {
   "cell_type": "code",
   "execution_count": 156,
   "id": "b088a98e",
   "metadata": {},
   "outputs": [
    {
     "name": "stdout",
     "output_type": "stream",
     "text": [
      "              loan_purpose  num_of_customers\n",
      "0              Modal usaha                25\n",
      "1    Kebutuhan sehari-hari                17\n",
      "2           Renovasi Rumah                 8\n",
      "3         Biaya pendidikan                 8\n",
      "4          Biaya kesehatan                 4\n",
      "5        Membeli kendaraan                 2\n",
      "6       Membeli elektronik                 2\n",
      "7  Membayar hutang lainnya                 2\n"
     ]
    }
   ],
   "source": [
    "# Looking at loan purpose\n",
    "query = \"\"\"\n",
    "select loan_purpose, count(distinct customer_id) as num_of_customers\n",
    "from bad_customer_application\n",
    "group by 1 order by 2 desc\n",
    "\"\"\"\n",
    "df = query_from_db(query, engine)\n",
    "print(df)"
   ]
  },
  {
   "cell_type": "code",
   "execution_count": 167,
   "id": "0c23951f",
   "metadata": {},
   "outputs": [
    {
     "name": "stdout",
     "output_type": "stream",
     "text": [
      "     yob  num_of_customers\n",
      "0   1999                 8\n",
      "1   1992                 7\n",
      "2   1991                 5\n",
      "3   1988                 5\n",
      "4   1993                 4\n",
      "5   2000                 3\n",
      "6   1997                 3\n",
      "7   1994                 3\n",
      "8   1989                 3\n",
      "9   1983                 3\n",
      "10  1996                 2\n",
      "11  1995                 2\n",
      "12  1987                 2\n",
      "13  1982                 2\n",
      "14  1981                 2\n",
      "15  1979                 2\n",
      "16  1998                 1\n",
      "17  1990                 1\n",
      "18  1986                 1\n",
      "19  1984                 1\n",
      "20  1980                 1\n",
      "21  1978                 1\n",
      "22  1977                 1\n",
      "23  1976                 1\n",
      "24  1975                 1\n",
      "25  1974                 1\n",
      "26  1972                 1\n",
      "27  1967                 1\n"
     ]
    }
   ],
   "source": [
    "# Looking at age\n",
    "query = \"\"\"\n",
    "select cast(dob as string) as yob, count(distinct customer_id) as num_of_customers\n",
    "from bad_customer_application\n",
    "group by 1 order by 2 desc\n",
    "\"\"\"\n",
    "df = query_from_db(query, engine)\n",
    "print(df)"
   ]
  },
  {
   "cell_type": "code",
   "execution_count": 158,
   "id": "47295322",
   "metadata": {},
   "outputs": [
    {
     "name": "stdout",
     "output_type": "stream",
     "text": [
      "      address_provinsi  num_of_customers\n",
      "0           Jawa Barat                26\n",
      "1               Banten                10\n",
      "2          DKI Jakarta                 9\n",
      "3          Jawa Tengah                 5\n",
      "4           Jawa Timur                 4\n",
      "5     Kalimantan Timur                 2\n",
      "6          Dki Jakarta                 2\n",
      "7       Sumatera Utara                 1\n",
      "8     Sumatera Selatan                 1\n",
      "9       Sumatera Barat                 1\n",
      "10    Sulawesi Selatan                 1\n",
      "11                Riau                 1\n",
      "12             Lampung                 1\n",
      "13  Kalimantan Selatan                 1\n",
      "14          JAWA BARAT                 1\n",
      "15         DKI JAKARTA                 1\n",
      "16                Bali                 1\n"
     ]
    }
   ],
   "source": [
    "# Looking at address\n",
    "query = \"\"\"\n",
    "select address_provinsi, count(distinct customer_id) as num_of_customers\n",
    "from bad_customer_application\n",
    "group by 1 order by 2 desc\n",
    "\"\"\"\n",
    "df = query_from_db(query, engine)\n",
    "print(df)"
   ]
  },
  {
   "cell_type": "code",
   "execution_count": 159,
   "id": "0999f16e",
   "metadata": {},
   "outputs": [
    {
     "name": "stdout",
     "output_type": "stream",
     "text": [
      "  marital_status  num_of_customers\n",
      "0        Menikah                37\n",
      "1         Lajang                29\n",
      "2          Cerai                 2\n"
     ]
    }
   ],
   "source": [
    "# Looking at marital_status\n",
    "query = \"\"\"\n",
    "select marital_status, count(distinct customer_id) as num_of_customers\n",
    "from bad_customer_application\n",
    "group by 1 order by 2 desc\n",
    "\"\"\"\n",
    "df = query_from_db(query, engine)\n",
    "print(df)"
   ]
  },
  {
   "cell_type": "code",
   "execution_count": 161,
   "id": "3ed9ce62",
   "metadata": {},
   "outputs": [
    {
     "name": "stdout",
     "output_type": "stream",
     "text": [
      "   dependent  num_of_customers\n",
      "0        0.0                29\n",
      "1        2.0                16\n",
      "2        1.0                16\n",
      "3        3.0                 5\n",
      "4        4.0                 2\n"
     ]
    }
   ],
   "source": [
    "# Looking at dependents\n",
    "query = \"\"\"\n",
    "select dependent, count(distinct customer_id) as num_of_customers\n",
    "from bad_customer_application\n",
    "group by 1 order by 2 desc\n",
    "\"\"\"\n",
    "df = query_from_db(query, engine)\n",
    "print(df)"
   ]
  },
  {
   "cell_type": "code",
   "execution_count": 160,
   "id": "73c47238",
   "metadata": {},
   "outputs": [
    {
     "name": "stdout",
     "output_type": "stream",
     "text": [
      "         job_type  num_of_customers\n",
      "0  Pegawai swasta                60\n",
      "1  Pegawai negeri                 3\n",
      "2       Freelance                 3\n",
      "3       Pengusaha                 2\n"
     ]
    }
   ],
   "source": [
    "# Looking at job type\n",
    "query = \"\"\"\n",
    "select job_type, count(distinct customer_id) as num_of_customers\n",
    "from bad_customer_application\n",
    "group by 1 order by 2 desc\n",
    "\"\"\"\n",
    "df = query_from_db(query, engine)\n",
    "print(df)"
   ]
  },
  {
   "cell_type": "code",
   "execution_count": 162,
   "id": "d02c3aa8",
   "metadata": {},
   "outputs": [
    {
     "name": "stdout",
     "output_type": "stream",
     "text": [
      "                  job_industry  num_of_customers\n",
      "0              Pabrik / Gudang                12\n",
      "1            Sales / Marketing                11\n",
      "2         Admin / Finance / HR                10\n",
      "3                    Kesehatan                 6\n",
      "4                      Service                 5\n",
      "5     Konstruksi / Real Estate                 5\n",
      "6        Entertainment / Event                 5\n",
      "7                 Transportasi                 4\n",
      "8            Tehnik / Computer                 3\n",
      "9                    Perbankan                 3\n",
      "10                  Perhotelan                 2\n",
      "11  Hukum / Security / Politik                 2\n"
     ]
    }
   ],
   "source": [
    "# Looking at job industry\n",
    "query = \"\"\"\n",
    "select job_industry, count(distinct customer_id) as num_of_customers\n",
    "from bad_customer_application\n",
    "group by 1 order by 2 desc\n",
    "\"\"\"\n",
    "df = query_from_db(query, engine)\n",
    "print(df)"
   ]
  },
  {
   "cell_type": "code",
   "execution_count": 177,
   "id": "0b7d0069",
   "metadata": {},
   "outputs": [
    {
     "data": {
      "text/html": [
       "<div>\n",
       "<style scoped>\n",
       "    .dataframe tbody tr th:only-of-type {\n",
       "        vertical-align: middle;\n",
       "    }\n",
       "\n",
       "    .dataframe tbody tr th {\n",
       "        vertical-align: top;\n",
       "    }\n",
       "\n",
       "    .dataframe thead th {\n",
       "        text-align: right;\n",
       "    }\n",
       "</style>\n",
       "<table border=\"1\" class=\"dataframe\">\n",
       "  <thead>\n",
       "    <tr style=\"text-align: right;\">\n",
       "      <th></th>\n",
       "      <th>loan_id</th>\n",
       "      <th>loan_amount</th>\n",
       "      <th>loan_duration</th>\n",
       "      <th>installment_amount</th>\n",
       "    </tr>\n",
       "  </thead>\n",
       "  <tbody>\n",
       "    <tr>\n",
       "      <th>0</th>\n",
       "      <td>2.005022e+12</td>\n",
       "      <td>2052905.0</td>\n",
       "      <td>5.0</td>\n",
       "      <td>574000.0</td>\n",
       "    </tr>\n",
       "    <tr>\n",
       "      <th>1</th>\n",
       "      <td>2.005021e+12</td>\n",
       "      <td>53000.0</td>\n",
       "      <td>1.0</td>\n",
       "      <td>57699.0</td>\n",
       "    </tr>\n",
       "    <tr>\n",
       "      <th>2</th>\n",
       "      <td>2.005021e+12</td>\n",
       "      <td>10453.0</td>\n",
       "      <td>NaN</td>\n",
       "      <td>11355.0</td>\n",
       "    </tr>\n",
       "    <tr>\n",
       "      <th>3</th>\n",
       "      <td>2.005022e+12</td>\n",
       "      <td>53684.0</td>\n",
       "      <td>1.0</td>\n",
       "      <td>58945.0</td>\n",
       "    </tr>\n",
       "    <tr>\n",
       "      <th>4</th>\n",
       "      <td>2.005022e+12</td>\n",
       "      <td>26747.0</td>\n",
       "      <td>1.0</td>\n",
       "      <td>27014.0</td>\n",
       "    </tr>\n",
       "  </tbody>\n",
       "</table>\n",
       "</div>"
      ],
      "text/plain": [
       "        loan_id  loan_amount  loan_duration  installment_amount\n",
       "0  2.005022e+12    2052905.0            5.0            574000.0\n",
       "1  2.005021e+12      53000.0            1.0             57699.0\n",
       "2  2.005021e+12      10453.0            NaN             11355.0\n",
       "3  2.005022e+12      53684.0            1.0             58945.0\n",
       "4  2.005022e+12      26747.0            1.0             27014.0"
      ]
     },
     "execution_count": 177,
     "metadata": {},
     "output_type": "execute_result"
    }
   ],
   "source": [
    "# Getting the loan profile of bad customers\n",
    "query = \"\"\"\n",
    "select loan_id, loan_amount, loan_duration, installment_amount\n",
    "from loan_clean\n",
    "where loan_id in (select loan_id from bad_customer)\n",
    "\"\"\"\n",
    "bad_customer_loan_df = query_from_db(query, engine)\n",
    "bad_customer_loan_df.head()"
   ]
  },
  {
   "cell_type": "code",
   "execution_count": 179,
   "id": "327d94bb",
   "metadata": {},
   "outputs": [
    {
     "data": {
      "text/plain": [
       "227"
      ]
     },
     "execution_count": 179,
     "metadata": {},
     "output_type": "execute_result"
    }
   ],
   "source": [
    "bad_customer_loan_df.to_sql(name='bad_customer_loan', con=engine, if_exists='replace')"
   ]
  },
  {
   "cell_type": "code",
   "execution_count": 184,
   "id": "53b65836",
   "metadata": {},
   "outputs": [
    {
     "name": "stdout",
     "output_type": "stream",
     "text": [
      "    round(loan_amount/10000)  num_of_loans\n",
      "0                        NaN             5\n",
      "1                        1.0             8\n",
      "2                        2.0            14\n",
      "3                        3.0            19\n",
      "4                        4.0             1\n",
      "5                        5.0            55\n",
      "6                        7.0             1\n",
      "7                        8.0            10\n",
      "8                       10.0             2\n",
      "9                       11.0            17\n",
      "10                      16.0             2\n",
      "11                      21.0             4\n",
      "12                      26.0             1\n",
      "13                      30.0             6\n",
      "14                      32.0             3\n",
      "15                      39.0             1\n",
      "16                      40.0             3\n",
      "17                      42.0             1\n",
      "18                      45.0             1\n",
      "19                      47.0             1\n",
      "20                      50.0            19\n",
      "21                      53.0             4\n",
      "22                      70.0             1\n",
      "23                      79.0             1\n",
      "24                      80.0             2\n",
      "25                     100.0            14\n",
      "26                     101.0             1\n",
      "27                     105.0            14\n",
      "28                     115.0             1\n",
      "29                     120.0             1\n",
      "30                     130.0             2\n",
      "31                     150.0             4\n",
      "32                     168.0             1\n",
      "33                     200.0             6\n",
      "34                     205.0             1\n"
     ]
    }
   ],
   "source": [
    "# Looking at loan amount\n",
    "query = \"\"\"\n",
    "select round(loan_amount/10000), count(distinct loan_id) as num_of_loans\n",
    "from bad_customer_loan\n",
    "group by 1 order by 1\n",
    "\"\"\"\n",
    "df = query_from_db(query, engine)\n",
    "print(df)"
   ]
  },
  {
   "cell_type": "code",
   "execution_count": 185,
   "id": "cb494a4d",
   "metadata": {
    "scrolled": true
   },
   "outputs": [
    {
     "name": "stdout",
     "output_type": "stream",
     "text": [
      "   loan_duration  num_of_loans\n",
      "0            1.0           109\n",
      "1            3.0            41\n",
      "2            6.0            31\n",
      "3            5.0            17\n",
      "4            2.0            13\n",
      "5            4.0             6\n",
      "6            7.0             5\n",
      "7            NaN             4\n",
      "8            9.0             1\n"
     ]
    }
   ],
   "source": [
    "# Looking at loan duration\n",
    "query = \"\"\"\n",
    "select loan_duration, count(distinct loan_id) as num_of_loans\n",
    "from bad_customer_loan\n",
    "group by 1 order by 2 desc\n",
    "\"\"\"\n",
    "df = query_from_db(query, engine)\n",
    "print(df)"
   ]
  },
  {
   "cell_type": "code",
   "execution_count": 188,
   "id": "4053a734",
   "metadata": {},
   "outputs": [
    {
     "name": "stdout",
     "output_type": "stream",
     "text": [
      "    round(installment_amount/10000)  num_of_loans\n",
      "0                               1.0             9\n",
      "1                               2.0            14\n",
      "2                               3.0            18\n",
      "3                               4.0            10\n",
      "4                               5.0             4\n",
      "5                               6.0            63\n",
      "6                               7.0             2\n",
      "7                               8.0             8\n",
      "8                               9.0             7\n",
      "9                              10.0             4\n",
      "10                             11.0            10\n",
      "11                             12.0             7\n",
      "12                             13.0             3\n",
      "13                             14.0             3\n",
      "14                             15.0             1\n",
      "15                             16.0             1\n",
      "16                             17.0             4\n",
      "17                             18.0             2\n",
      "18                             19.0             1\n",
      "19                             20.0             7\n",
      "20                             21.0             2\n",
      "21                             22.0             3\n",
      "22                             23.0             5\n",
      "23                             28.0             3\n",
      "24                             29.0             2\n",
      "25                             30.0             2\n",
      "26                             31.0             1\n",
      "27                             32.0             4\n",
      "28                             34.0             1\n",
      "29                             36.0             1\n",
      "30                             40.0            14\n",
      "31                             42.0             2\n",
      "32                             43.0             1\n",
      "33                             45.0             2\n",
      "34                             49.0             1\n",
      "35                             56.0             1\n",
      "36                             57.0             1\n",
      "37                             66.0             1\n",
      "38                             96.0             1\n",
      "39                            103.0             1\n"
     ]
    }
   ],
   "source": [
    "# Looking at installment amount\n",
    "query = \"\"\"\n",
    "select round(installment_amount/10000), count(distinct loan_id) as num_of_loans\n",
    "from bad_customer_loan\n",
    "group by 1 order by 1\n",
    "\"\"\"\n",
    "df = query_from_db(query, engine)\n",
    "print(df)"
   ]
  },
  {
   "cell_type": "markdown",
   "id": "65b5e741",
   "metadata": {},
   "source": [
    "### Indicators of a bad customer\n",
    "From the simple queries above, we can see that:\n",
    "- 36.8% of bad customers use the loan for modal usaha, and 25% for kebutuhan sehari-hari\n",
    "- Age does not seem to be a good indicator for bad customers\n",
    "- 38.2% of bad customers reside in Jawa Barat\n",
    "- 54.4% are married and 42.6% are single --> marital status does not seem to be a good indicator\n",
    "- 47% have 1 or 2 dependents, while 42.6% have no dependents\n",
    "- 88.2% of them work as pegawai swasta\n",
    "- 48.5% work in industries like pabrik, sales, admin, marketing, finance, or HR\n",
    "- 58% of bad loans are amounting to less than 160,000\n",
    "- 48% of bad loans is only 1 year in duration\n",
    "- 68.7% of bad loans have installment amount of less than 120,000"
   ]
  },
  {
   "cell_type": "markdown",
   "id": "cc973b67-717f-4e14-acb9-e23a320f4fb5",
   "metadata": {
    "id": "cc973b67-717f-4e14-acb9-e23a320f4fb5",
    "tags": []
   },
   "source": [
    "## Feature Engineering\n",
    "Selecting fields that we should use to build the model"
   ]
  },
  {
   "cell_type": "code",
   "execution_count": 178,
   "id": "bef6d4f2",
   "metadata": {},
   "outputs": [
    {
     "data": {
      "text/html": [
       "<div>\n",
       "<style scoped>\n",
       "    .dataframe tbody tr th:only-of-type {\n",
       "        vertical-align: middle;\n",
       "    }\n",
       "\n",
       "    .dataframe tbody tr th {\n",
       "        vertical-align: top;\n",
       "    }\n",
       "\n",
       "    .dataframe thead th {\n",
       "        text-align: right;\n",
       "    }\n",
       "</style>\n",
       "<table border=\"1\" class=\"dataframe\">\n",
       "  <thead>\n",
       "    <tr style=\"text-align: right;\">\n",
       "      <th></th>\n",
       "      <th>customer_id</th>\n",
       "      <th>loan_purpose</th>\n",
       "      <th>address_provinsi</th>\n",
       "      <th>dependent</th>\n",
       "      <th>job_type</th>\n",
       "      <th>job_industry</th>\n",
       "      <th>avg_loan_amount</th>\n",
       "      <th>avg_loan_duration</th>\n",
       "      <th>avg_installment_amount</th>\n",
       "    </tr>\n",
       "  </thead>\n",
       "  <tbody>\n",
       "    <tr>\n",
       "      <th>0</th>\n",
       "      <td>2.003020e+12</td>\n",
       "      <td>Renovasi Rumah</td>\n",
       "      <td>DKI Jakarta</td>\n",
       "      <td>0.0</td>\n",
       "      <td>Pegawai swasta</td>\n",
       "      <td>Admin / Finance / HR</td>\n",
       "      <td>5.789400e+05</td>\n",
       "      <td>4.125000</td>\n",
       "      <td>163500.000000</td>\n",
       "    </tr>\n",
       "    <tr>\n",
       "      <th>1</th>\n",
       "      <td>2.003020e+12</td>\n",
       "      <td>Kebutuhan sehari-hari</td>\n",
       "      <td>Sulawesi Selatan</td>\n",
       "      <td>0.0</td>\n",
       "      <td>Pegawai swasta</td>\n",
       "      <td>Transportasi</td>\n",
       "      <td>1.250000e+06</td>\n",
       "      <td>4.500000</td>\n",
       "      <td>349500.000000</td>\n",
       "    </tr>\n",
       "    <tr>\n",
       "      <th>2</th>\n",
       "      <td>2.003020e+12</td>\n",
       "      <td>Membeli elektronik</td>\n",
       "      <td>DKI JAKARTA</td>\n",
       "      <td>0.0</td>\n",
       "      <td>Pegawai swasta</td>\n",
       "      <td>Pendidikan</td>\n",
       "      <td>5.000000e+05</td>\n",
       "      <td>6.000000</td>\n",
       "      <td>118000.000000</td>\n",
       "    </tr>\n",
       "    <tr>\n",
       "      <th>3</th>\n",
       "      <td>2.003020e+12</td>\n",
       "      <td>Biaya pendidikan</td>\n",
       "      <td>Banten</td>\n",
       "      <td>3.0</td>\n",
       "      <td>Pegawai swasta</td>\n",
       "      <td>Pabrik / Gudang</td>\n",
       "      <td>1.216667e+06</td>\n",
       "      <td>3.666667</td>\n",
       "      <td>402000.000000</td>\n",
       "    </tr>\n",
       "    <tr>\n",
       "      <th>4</th>\n",
       "      <td>2.003021e+12</td>\n",
       "      <td>Modal usaha</td>\n",
       "      <td>DKI Jakarta</td>\n",
       "      <td>0.0</td>\n",
       "      <td>Pegawai swasta</td>\n",
       "      <td>Transportasi</td>\n",
       "      <td>7.866652e+05</td>\n",
       "      <td>5.357143</td>\n",
       "      <td>183285.714286</td>\n",
       "    </tr>\n",
       "  </tbody>\n",
       "</table>\n",
       "</div>"
      ],
      "text/plain": [
       "    customer_id           loan_purpose  address_provinsi  dependent  \\\n",
       "0  2.003020e+12         Renovasi Rumah       DKI Jakarta        0.0   \n",
       "1  2.003020e+12  Kebutuhan sehari-hari  Sulawesi Selatan        0.0   \n",
       "2  2.003020e+12     Membeli elektronik       DKI JAKARTA        0.0   \n",
       "3  2.003020e+12       Biaya pendidikan            Banten        3.0   \n",
       "4  2.003021e+12            Modal usaha       DKI Jakarta        0.0   \n",
       "\n",
       "         job_type          job_industry  avg_loan_amount  avg_loan_duration  \\\n",
       "0  Pegawai swasta  Admin / Finance / HR     5.789400e+05           4.125000   \n",
       "1  Pegawai swasta          Transportasi     1.250000e+06           4.500000   \n",
       "2  Pegawai swasta            Pendidikan     5.000000e+05           6.000000   \n",
       "3  Pegawai swasta       Pabrik / Gudang     1.216667e+06           3.666667   \n",
       "4  Pegawai swasta          Transportasi     7.866652e+05           5.357143   \n",
       "\n",
       "   avg_installment_amount  \n",
       "0           163500.000000  \n",
       "1           349500.000000  \n",
       "2           118000.000000  \n",
       "3           402000.000000  \n",
       "4           183285.714286  "
      ]
     },
     "execution_count": 178,
     "metadata": {},
     "output_type": "execute_result"
    }
   ],
   "source": [
    "query = \"\"\"\n",
    "select\n",
    "    customer_id,\n",
    "    loan_purpose,\n",
    "    address_provinsi,\n",
    "    dependent,\n",
    "    job_type,\n",
    "    job_industry,\n",
    "    avg(loan_amount) as avg_loan_amount,\n",
    "    avg(loan_duration) as avg_loan_duration,\n",
    "    avg(installment_amount) as avg_installment_amount\n",
    "from application_clean a\n",
    "left join loan_clean l\n",
    "    on a.application_id = l.application_id\n",
    "group by 1, 2, 3, 4, 5, 6\n",
    "\"\"\"\n",
    "features_df = query_from_db(query, engine)\n",
    "features_df.head()"
   ]
  },
  {
   "cell_type": "markdown",
   "id": "53ab664b-554b-4840-9079-4a809f471d25",
   "metadata": {
    "id": "53ab664b-554b-4840-9079-4a809f471d25",
    "tags": []
   },
   "source": [
    "## Data Visualization\n",
    "Visualizing the data to show that the features are useful"
   ]
  },
  {
   "cell_type": "code",
   "execution_count": 191,
   "id": "f70cb676",
   "metadata": {
    "scrolled": false
   },
   "outputs": [
    {
     "name": "stderr",
     "output_type": "stream",
     "text": [
      "/var/folders/2g/7s767l5511j23r5qcgx2xlyc0000gn/T/ipykernel_35661/3849105655.py:1: FutureWarning: The default value of numeric_only in DataFrame.corr is deprecated. In a future version, it will default to False. Select only valid columns or specify the value of numeric_only to silence this warning.\n",
      "  corr_matrix = features_df.corr()\n"
     ]
    },
    {
     "data": {
      "image/png": "[encoded data removed]",
      "text/plain": [
       "<Figure size 640x480 with 2 Axes>"
      ]
     },
     "metadata": {},
     "output_type": "display_data"
    }
   ],
   "source": [
    "corr_matrix = features_df.corr()\n",
    "sns.heatmap(corr_matrix, annot=True)\n",
    "plt.show()"
   ]
  },
  {
   "cell_type": "markdown",
   "id": "a936cdb3",
   "metadata": {},
   "source": [
    "From the heatmap above, we can see that `avg_loan_amount` and `avg_loan_duration` has a quite high correlation of 0.66.\n",
    "Also, `avg_loan_amount` and `avg_installment_amount` has a high correlation of 0.85.\n",
    "However, since the correlation is below 0.9, we can still use them in the model."
   ]
  },
  {
   "cell_type": "markdown",
   "id": "c3726fb5-d7cc-47ea-8135-02999feb260b",
   "metadata": {
    "id": "c3726fb5-d7cc-47ea-8135-02999feb260b",
    "tags": []
   },
   "source": [
    "## Modeling"
   ]
  },
  {
   "cell_type": "code",
   "execution_count": 272,
   "id": "34bdf8c1",
   "metadata": {
    "scrolled": false
   },
   "outputs": [
    {
     "data": {
      "text/html": [
       "<div>\n",
       "<style scoped>\n",
       "    .dataframe tbody tr th:only-of-type {\n",
       "        vertical-align: middle;\n",
       "    }\n",
       "\n",
       "    .dataframe tbody tr th {\n",
       "        vertical-align: top;\n",
       "    }\n",
       "\n",
       "    .dataframe thead th {\n",
       "        text-align: right;\n",
       "    }\n",
       "</style>\n",
       "<table border=\"1\" class=\"dataframe\">\n",
       "  <thead>\n",
       "    <tr style=\"text-align: right;\">\n",
       "      <th></th>\n",
       "      <th>customer_id</th>\n",
       "      <th>loan_purpose</th>\n",
       "      <th>address_provinsi</th>\n",
       "      <th>dependent</th>\n",
       "      <th>job_type</th>\n",
       "      <th>job_industry</th>\n",
       "      <th>avg_loan_amount</th>\n",
       "      <th>avg_loan_duration</th>\n",
       "      <th>avg_installment_amount</th>\n",
       "      <th>label</th>\n",
       "    </tr>\n",
       "  </thead>\n",
       "  <tbody>\n",
       "    <tr>\n",
       "      <th>0</th>\n",
       "      <td>2.003020e+12</td>\n",
       "      <td>Renovasi Rumah</td>\n",
       "      <td>DKI Jakarta</td>\n",
       "      <td>0.0</td>\n",
       "      <td>Pegawai swasta</td>\n",
       "      <td>Admin / Finance / HR</td>\n",
       "      <td>5.898296e+05</td>\n",
       "      <td>4.500000</td>\n",
       "      <td>162633.333333</td>\n",
       "      <td>1</td>\n",
       "    </tr>\n",
       "    <tr>\n",
       "      <th>1</th>\n",
       "      <td>2.003020e+12</td>\n",
       "      <td>Kebutuhan sehari-hari</td>\n",
       "      <td>Sulawesi Selatan</td>\n",
       "      <td>0.0</td>\n",
       "      <td>Pegawai swasta</td>\n",
       "      <td>Transportasi</td>\n",
       "      <td>1.437500e+06</td>\n",
       "      <td>4.875000</td>\n",
       "      <td>385375.000000</td>\n",
       "      <td>1</td>\n",
       "    </tr>\n",
       "    <tr>\n",
       "      <th>2</th>\n",
       "      <td>2.003020e+12</td>\n",
       "      <td>Membeli elektronik</td>\n",
       "      <td>DKI JAKARTA</td>\n",
       "      <td>0.0</td>\n",
       "      <td>Pegawai swasta</td>\n",
       "      <td>Pendidikan</td>\n",
       "      <td>5.000000e+05</td>\n",
       "      <td>6.000000</td>\n",
       "      <td>118000.000000</td>\n",
       "      <td>1</td>\n",
       "    </tr>\n",
       "    <tr>\n",
       "      <th>3</th>\n",
       "      <td>2.003020e+12</td>\n",
       "      <td>Biaya pendidikan</td>\n",
       "      <td>Banten</td>\n",
       "      <td>3.0</td>\n",
       "      <td>Pegawai swasta</td>\n",
       "      <td>Pabrik / Gudang</td>\n",
       "      <td>1.336364e+06</td>\n",
       "      <td>4.000000</td>\n",
       "      <td>411818.181818</td>\n",
       "      <td>1</td>\n",
       "    </tr>\n",
       "    <tr>\n",
       "      <th>4</th>\n",
       "      <td>2.003021e+12</td>\n",
       "      <td>Modal usaha</td>\n",
       "      <td>DKI Jakarta</td>\n",
       "      <td>0.0</td>\n",
       "      <td>Pegawai swasta</td>\n",
       "      <td>Transportasi</td>\n",
       "      <td>8.594571e+05</td>\n",
       "      <td>5.635135</td>\n",
       "      <td>197297.297297</td>\n",
       "      <td>1</td>\n",
       "    </tr>\n",
       "    <tr>\n",
       "      <th>5</th>\n",
       "      <td>2.003021e+12</td>\n",
       "      <td>Modal usaha</td>\n",
       "      <td>DKI JAKARTA</td>\n",
       "      <td>0.0</td>\n",
       "      <td>Pegawai swasta</td>\n",
       "      <td>Admin / Finance / HR</td>\n",
       "      <td>1.228697e+05</td>\n",
       "      <td>1.568779</td>\n",
       "      <td>74261.057927</td>\n",
       "      <td>1</td>\n",
       "    </tr>\n",
       "    <tr>\n",
       "      <th>6</th>\n",
       "      <td>2.003021e+12</td>\n",
       "      <td>Biaya pendidikan</td>\n",
       "      <td>DKI Jakarta</td>\n",
       "      <td>0.0</td>\n",
       "      <td>Pegawai swasta</td>\n",
       "      <td>Sales / Marketing</td>\n",
       "      <td>1.258621e+06</td>\n",
       "      <td>4.333333</td>\n",
       "      <td>376482.758621</td>\n",
       "      <td>1</td>\n",
       "    </tr>\n",
       "    <tr>\n",
       "      <th>7</th>\n",
       "      <td>2.003021e+12</td>\n",
       "      <td>Biaya kesehatan</td>\n",
       "      <td>Kalimantan Timur</td>\n",
       "      <td>2.0</td>\n",
       "      <td>Pengusaha</td>\n",
       "      <td>Kesehatan</td>\n",
       "      <td>NaN</td>\n",
       "      <td>NaN</td>\n",
       "      <td>NaN</td>\n",
       "      <td>0</td>\n",
       "    </tr>\n",
       "    <tr>\n",
       "      <th>8</th>\n",
       "      <td>2.003021e+12</td>\n",
       "      <td>Biaya kesehatan</td>\n",
       "      <td>Jawa Barat</td>\n",
       "      <td>0.0</td>\n",
       "      <td>Pegawai swasta</td>\n",
       "      <td>Sales / Marketing</td>\n",
       "      <td>1.045455e+06</td>\n",
       "      <td>5.545455</td>\n",
       "      <td>244545.454545</td>\n",
       "      <td>0</td>\n",
       "    </tr>\n",
       "    <tr>\n",
       "      <th>9</th>\n",
       "      <td>2.003021e+12</td>\n",
       "      <td>Modal usaha</td>\n",
       "      <td>Jawa Barat</td>\n",
       "      <td>2.0</td>\n",
       "      <td>Pegawai swasta</td>\n",
       "      <td>Pabrik / Gudang</td>\n",
       "      <td>5.816892e+05</td>\n",
       "      <td>2.973684</td>\n",
       "      <td>228786.789474</td>\n",
       "      <td>1</td>\n",
       "    </tr>\n",
       "  </tbody>\n",
       "</table>\n",
       "</div>"
      ],
      "text/plain": [
       "    customer_id           loan_purpose  address_provinsi  dependent  \\\n",
       "0  2.003020e+12         Renovasi Rumah       DKI Jakarta        0.0   \n",
       "1  2.003020e+12  Kebutuhan sehari-hari  Sulawesi Selatan        0.0   \n",
       "2  2.003020e+12     Membeli elektronik       DKI JAKARTA        0.0   \n",
       "3  2.003020e+12       Biaya pendidikan            Banten        3.0   \n",
       "4  2.003021e+12            Modal usaha       DKI Jakarta        0.0   \n",
       "5  2.003021e+12            Modal usaha       DKI JAKARTA        0.0   \n",
       "6  2.003021e+12       Biaya pendidikan       DKI Jakarta        0.0   \n",
       "7  2.003021e+12        Biaya kesehatan  Kalimantan Timur        2.0   \n",
       "8  2.003021e+12        Biaya kesehatan        Jawa Barat        0.0   \n",
       "9  2.003021e+12            Modal usaha        Jawa Barat        2.0   \n",
       "\n",
       "         job_type          job_industry  avg_loan_amount  avg_loan_duration  \\\n",
       "0  Pegawai swasta  Admin / Finance / HR     5.898296e+05           4.500000   \n",
       "1  Pegawai swasta          Transportasi     1.437500e+06           4.875000   \n",
       "2  Pegawai swasta            Pendidikan     5.000000e+05           6.000000   \n",
       "3  Pegawai swasta       Pabrik / Gudang     1.336364e+06           4.000000   \n",
       "4  Pegawai swasta          Transportasi     8.594571e+05           5.635135   \n",
       "5  Pegawai swasta  Admin / Finance / HR     1.228697e+05           1.568779   \n",
       "6  Pegawai swasta     Sales / Marketing     1.258621e+06           4.333333   \n",
       "7       Pengusaha             Kesehatan              NaN                NaN   \n",
       "8  Pegawai swasta     Sales / Marketing     1.045455e+06           5.545455   \n",
       "9  Pegawai swasta       Pabrik / Gudang     5.816892e+05           2.973684   \n",
       "\n",
       "   avg_installment_amount  label  \n",
       "0           162633.333333      1  \n",
       "1           385375.000000      1  \n",
       "2           118000.000000      1  \n",
       "3           411818.181818      1  \n",
       "4           197297.297297      1  \n",
       "5            74261.057927      1  \n",
       "6           376482.758621      1  \n",
       "7                     NaN      0  \n",
       "8           244545.454545      0  \n",
       "9           228786.789474      1  "
      ]
     },
     "execution_count": 272,
     "metadata": {},
     "output_type": "execute_result"
    }
   ],
   "source": [
    "# Generating the dataset for modeling\n",
    "query = \"\"\"\n",
    "select\n",
    "    customer_id,\n",
    "    loan_purpose,\n",
    "    address_provinsi,\n",
    "    dependent,\n",
    "    job_type,\n",
    "    job_industry,\n",
    "    avg_loan_amount,\n",
    "    avg_loan_duration,\n",
    "    avg_installment_amount,\n",
    "    case when num_of_payments < 1 then False else True end as label\n",
    "from (\n",
    "    select\n",
    "        customer_id,\n",
    "        loan_purpose,\n",
    "        address_provinsi,\n",
    "        dependent,\n",
    "        job_type,\n",
    "        job_industry,\n",
    "        avg(loan_amount) as avg_loan_amount,\n",
    "        avg(loan_duration) as avg_loan_duration,\n",
    "        avg(installment_amount) as avg_installment_amount,\n",
    "        count(distinct paid_date) as num_of_payments\n",
    "    from application_clean a\n",
    "    left join loan_clean l\n",
    "        on a.application_id = l.application_id\n",
    "    left join payment1_clean p1\n",
    "        on l.loan_id = p1.loan_id\n",
    "    group by 1, 2, 3, 4, 5, 6\n",
    ")\n",
    "\"\"\"\n",
    "df = query_from_db(query, engine)\n",
    "df.head(10)"
   ]
  },
  {
   "cell_type": "code",
   "execution_count": 273,
   "id": "9ad32732",
   "metadata": {},
   "outputs": [],
   "source": [
    "# Encoding the categorical variables to integer\n",
    "from sklearn.preprocessing import LabelEncoder\n",
    "\n",
    "label_encoder = LabelEncoder()\n",
    "\n",
    "label_encoder.fit(df['loan_purpose'])\n",
    "df['loan_purpose'] = label_encoder.transform(df['loan_purpose'])\n",
    "\n",
    "label_encoder.fit(df['address_provinsi'])\n",
    "df['address_provinsi'] = label_encoder.transform(df['address_provinsi'])\n",
    "\n",
    "label_encoder.fit(df['job_type'])\n",
    "df['job_type'] = label_encoder.transform(df['job_type'])\n",
    "\n",
    "label_encoder.fit(df['job_industry'])\n",
    "df['job_industry'] = label_encoder.transform(df['job_industry'])"
   ]
  },
  {
   "cell_type": "code",
   "execution_count": 275,
   "id": "a64726b7",
   "metadata": {},
   "outputs": [
    {
     "data": {
      "text/html": [
       "<div>\n",
       "<style scoped>\n",
       "    .dataframe tbody tr th:only-of-type {\n",
       "        vertical-align: middle;\n",
       "    }\n",
       "\n",
       "    .dataframe tbody tr th {\n",
       "        vertical-align: top;\n",
       "    }\n",
       "\n",
       "    .dataframe thead th {\n",
       "        text-align: right;\n",
       "    }\n",
       "</style>\n",
       "<table border=\"1\" class=\"dataframe\">\n",
       "  <thead>\n",
       "    <tr style=\"text-align: right;\">\n",
       "      <th></th>\n",
       "      <th>loan_purpose</th>\n",
       "      <th>address_provinsi</th>\n",
       "      <th>dependent</th>\n",
       "      <th>job_type</th>\n",
       "      <th>job_industry</th>\n",
       "      <th>avg_loan_amount</th>\n",
       "      <th>avg_loan_duration</th>\n",
       "      <th>avg_installment_amount</th>\n",
       "      <th>label</th>\n",
       "    </tr>\n",
       "  </thead>\n",
       "  <tbody>\n",
       "    <tr>\n",
       "      <th>0</th>\n",
       "      <td>9</td>\n",
       "      <td>5</td>\n",
       "      <td>0.0</td>\n",
       "      <td>2</td>\n",
       "      <td>0</td>\n",
       "      <td>5.898296e+05</td>\n",
       "      <td>4.500000</td>\n",
       "      <td>162633.333333</td>\n",
       "      <td>1</td>\n",
       "    </tr>\n",
       "    <tr>\n",
       "      <th>1</th>\n",
       "      <td>4</td>\n",
       "      <td>17</td>\n",
       "      <td>0.0</td>\n",
       "      <td>2</td>\n",
       "      <td>13</td>\n",
       "      <td>1.437500e+06</td>\n",
       "      <td>4.875000</td>\n",
       "      <td>385375.000000</td>\n",
       "      <td>1</td>\n",
       "    </tr>\n",
       "    <tr>\n",
       "      <th>2</th>\n",
       "      <td>6</td>\n",
       "      <td>4</td>\n",
       "      <td>0.0</td>\n",
       "      <td>2</td>\n",
       "      <td>6</td>\n",
       "      <td>5.000000e+05</td>\n",
       "      <td>6.000000</td>\n",
       "      <td>118000.000000</td>\n",
       "      <td>1</td>\n",
       "    </tr>\n",
       "    <tr>\n",
       "      <th>3</th>\n",
       "      <td>3</td>\n",
       "      <td>2</td>\n",
       "      <td>3.0</td>\n",
       "      <td>2</td>\n",
       "      <td>5</td>\n",
       "      <td>1.336364e+06</td>\n",
       "      <td>4.000000</td>\n",
       "      <td>411818.181818</td>\n",
       "      <td>1</td>\n",
       "    </tr>\n",
       "    <tr>\n",
       "      <th>4</th>\n",
       "      <td>8</td>\n",
       "      <td>5</td>\n",
       "      <td>0.0</td>\n",
       "      <td>2</td>\n",
       "      <td>13</td>\n",
       "      <td>8.594571e+05</td>\n",
       "      <td>5.635135</td>\n",
       "      <td>197297.297297</td>\n",
       "      <td>1</td>\n",
       "    </tr>\n",
       "  </tbody>\n",
       "</table>\n",
       "</div>"
      ],
      "text/plain": [
       "   loan_purpose  address_provinsi  dependent  job_type  job_industry  \\\n",
       "0             9                 5        0.0         2             0   \n",
       "1             4                17        0.0         2            13   \n",
       "2             6                 4        0.0         2             6   \n",
       "3             3                 2        3.0         2             5   \n",
       "4             8                 5        0.0         2            13   \n",
       "\n",
       "   avg_loan_amount  avg_loan_duration  avg_installment_amount  label  \n",
       "0     5.898296e+05           4.500000           162633.333333      1  \n",
       "1     1.437500e+06           4.875000           385375.000000      1  \n",
       "2     5.000000e+05           6.000000           118000.000000      1  \n",
       "3     1.336364e+06           4.000000           411818.181818      1  \n",
       "4     8.594571e+05           5.635135           197297.297297      1  "
      ]
     },
     "execution_count": 275,
     "metadata": {},
     "output_type": "execute_result"
    }
   ],
   "source": [
    "# Drop customer_id column\n",
    "df.drop(['customer_id'], axis=1, inplace=True)\n",
    "df.head()"
   ]
  },
  {
   "cell_type": "code",
   "execution_count": 277,
   "id": "a8c96486",
   "metadata": {},
   "outputs": [],
   "source": [
    "# Splitting the dataset\n",
    "from sklearn.model_selection import train_test_split\n",
    "\n",
    "X = df.drop(['label'], axis=1)\n",
    "y = df['label']\n",
    "\n",
    "X_train, X_test, y_train, y_test = train_test_split(X, y, test_size=0.2, random_state=0)"
   ]
  },
  {
   "cell_type": "code",
   "execution_count": 280,
   "id": "6ea9e42d",
   "metadata": {
    "scrolled": false
   },
   "outputs": [
    {
     "data": {
      "text/html": [
       "<style>#sk-container-id-4 {color: black;background-color: white;}#sk-container-id-4 pre{padding: 0;}#sk-container-id-4 div.sk-toggleable {background-color: white;}#sk-container-id-4 label.sk-toggleable__label {cursor: pointer;display: block;width: 100%;margin-bottom: 0;padding: 0.3em;box-sizing: border-box;text-align: center;}#sk-container-id-4 label.sk-toggleable__label-arrow:before {content: \"▸\";float: left;margin-right: 0.25em;color: #696969;}#sk-container-id-4 label.sk-toggleable__label-arrow:hover:before {color: black;}#sk-container-id-4 div.sk-estimator:hover label.sk-toggleable__label-arrow:before {color: black;}#sk-container-id-4 div.sk-toggleable__content {max-height: 0;max-width: 0;overflow: hidden;text-align: left;background-color: #f0f8ff;}#sk-container-id-4 div.sk-toggleable__content pre {margin: 0.2em;color: black;border-radius: 0.25em;background-color: #f0f8ff;}#sk-container-id-4 input.sk-toggleable__control:checked~div.sk-toggleable__content {max-height: 200px;max-width: 100%;overflow: auto;}#sk-container-id-4 input.sk-toggleable__control:checked~label.sk-toggleable__label-arrow:before {content: \"▾\";}#sk-container-id-4 div.sk-estimator input.sk-toggleable__control:checked~label.sk-toggleable__label {background-color: #d4ebff;}#sk-container-id-4 div.sk-label input.sk-toggleable__control:checked~label.sk-toggleable__label {background-color: #d4ebff;}#sk-container-id-4 input.sk-hidden--visually {border: 0;clip: rect(1px 1px 1px 1px);clip: rect(1px, 1px, 1px, 1px);height: 1px;margin: -1px;overflow: hidden;padding: 0;position: absolute;width: 1px;}#sk-container-id-4 div.sk-estimator {font-family: monospace;background-color: #f0f8ff;border: 1px dotted black;border-radius: 0.25em;box-sizing: border-box;margin-bottom: 0.5em;}#sk-container-id-4 div.sk-estimator:hover {background-color: #d4ebff;}#sk-container-id-4 div.sk-parallel-item::after {content: \"\";width: 100%;border-bottom: 1px solid gray;flex-grow: 1;}#sk-container-id-4 div.sk-label:hover label.sk-toggleable__label {background-color: #d4ebff;}#sk-container-id-4 div.sk-serial::before {content: \"\";position: absolute;border-left: 1px solid gray;box-sizing: border-box;top: 0;bottom: 0;left: 50%;z-index: 0;}#sk-container-id-4 div.sk-serial {display: flex;flex-direction: column;align-items: center;background-color: white;padding-right: 0.2em;padding-left: 0.2em;position: relative;}#sk-container-id-4 div.sk-item {position: relative;z-index: 1;}#sk-container-id-4 div.sk-parallel {display: flex;align-items: stretch;justify-content: center;background-color: white;position: relative;}#sk-container-id-4 div.sk-item::before, #sk-container-id-4 div.sk-parallel-item::before {content: \"\";position: absolute;border-left: 1px solid gray;box-sizing: border-box;top: 0;bottom: 0;left: 50%;z-index: -1;}#sk-container-id-4 div.sk-parallel-item {display: flex;flex-direction: column;z-index: 1;position: relative;background-color: white;}#sk-container-id-4 div.sk-parallel-item:first-child::after {align-self: flex-end;width: 50%;}#sk-container-id-4 div.sk-parallel-item:last-child::after {align-self: flex-start;width: 50%;}#sk-container-id-4 div.sk-parallel-item:only-child::after {width: 0;}#sk-container-id-4 div.sk-dashed-wrapped {border: 1px dashed gray;margin: 0 0.4em 0.5em 0.4em;box-sizing: border-box;padding-bottom: 0.4em;background-color: white;}#sk-container-id-4 div.sk-label label {font-family: monospace;font-weight: bold;display: inline-block;line-height: 1.2em;}#sk-container-id-4 div.sk-label-container {text-align: center;}#sk-container-id-4 div.sk-container {/* jupyter's `normalize.less` sets `[hidden] { display: none; }` but bootstrap.min.css set `[hidden] { display: none !important; }` so we also need the `!important` here to be able to override the default hidden behavior on the sphinx rendered scikit-learn.org. See: https://github.com/scikit-learn/scikit-learn/issues/21755 */display: inline-block !important;position: relative;}#sk-container-id-4 div.sk-text-repr-fallback {display: none;}</style><div id=\"sk-container-id-4\" class=\"sk-top-container\"><div class=\"sk-text-repr-fallback\"><pre>XGBClassifier(base_score=None, booster=None, callbacks=None,\n",
       "              colsample_bylevel=None, colsample_bynode=None,\n",
       "              colsample_bytree=None, early_stopping_rounds=None,\n",
       "              enable_categorical=False, eval_metric=None, feature_types=None,\n",
       "              gamma=None, gpu_id=None, grow_policy=None, importance_type=None,\n",
       "              interaction_constraints=None, learning_rate=None, max_bin=None,\n",
       "              max_cat_threshold=None, max_cat_to_onehot=None,\n",
       "              max_delta_step=None, max_depth=None, max_leaves=None,\n",
       "              min_child_weight=None, missing=nan, monotone_constraints=None,\n",
       "              n_estimators=100, n_jobs=None, num_parallel_tree=None,\n",
       "              predictor=None, random_state=None, ...)</pre><b>In a Jupyter environment, please rerun this cell to show the HTML representation or trust the notebook. <br />On GitHub, the HTML representation is unable to render, please try loading this page with nbviewer.org.</b></div><div class=\"sk-container\" hidden><div class=\"sk-item\"><div class=\"sk-estimator sk-toggleable\"><input class=\"sk-toggleable__control sk-hidden--visually\" id=\"sk-estimator-id-4\" type=\"checkbox\" checked><label for=\"sk-estimator-id-4\" class=\"sk-toggleable__label sk-toggleable__label-arrow\">XGBClassifier</label><div class=\"sk-toggleable__content\"><pre>XGBClassifier(base_score=None, booster=None, callbacks=None,\n",
       "              colsample_bylevel=None, colsample_bynode=None,\n",
       "              colsample_bytree=None, early_stopping_rounds=None,\n",
       "              enable_categorical=False, eval_metric=None, feature_types=None,\n",
       "              gamma=None, gpu_id=None, grow_policy=None, importance_type=None,\n",
       "              interaction_constraints=None, learning_rate=None, max_bin=None,\n",
       "              max_cat_threshold=None, max_cat_to_onehot=None,\n",
       "              max_delta_step=None, max_depth=None, max_leaves=None,\n",
       "              min_child_weight=None, missing=nan, monotone_constraints=None,\n",
       "              n_estimators=100, n_jobs=None, num_parallel_tree=None,\n",
       "              predictor=None, random_state=None, ...)</pre></div></div></div></div></div>"
      ],
      "text/plain": [
       "XGBClassifier(base_score=None, booster=None, callbacks=None,\n",
       "              colsample_bylevel=None, colsample_bynode=None,\n",
       "              colsample_bytree=None, early_stopping_rounds=None,\n",
       "              enable_categorical=False, eval_metric=None, feature_types=None,\n",
       "              gamma=None, gpu_id=None, grow_policy=None, importance_type=None,\n",
       "              interaction_constraints=None, learning_rate=None, max_bin=None,\n",
       "              max_cat_threshold=None, max_cat_to_onehot=None,\n",
       "              max_delta_step=None, max_depth=None, max_leaves=None,\n",
       "              min_child_weight=None, missing=nan, monotone_constraints=None,\n",
       "              n_estimators=100, n_jobs=None, num_parallel_tree=None,\n",
       "              predictor=None, random_state=None, ...)"
      ]
     },
     "execution_count": 280,
     "metadata": {},
     "output_type": "execute_result"
    }
   ],
   "source": [
    "# Training the model\n",
    "from xgboost import XGBClassifier\n",
    "\n",
    "model = XGBClassifier()\n",
    "model.fit(X_train, y_train)"
   ]
  },
  {
   "cell_type": "code",
   "execution_count": 281,
   "id": "22b7b86d",
   "metadata": {},
   "outputs": [],
   "source": [
    "# Making a prediction\n",
    "y_pred = model.predict(X_test)\n",
    "predictions = [round(value) for value in y_pred]"
   ]
  },
  {
   "cell_type": "code",
   "execution_count": 283,
   "id": "a3bc3baa",
   "metadata": {},
   "outputs": [
    {
     "name": "stdout",
     "output_type": "stream",
     "text": [
      "Accuracy: 91.43%\n"
     ]
    }
   ],
   "source": [
    "# Evaluating the prediction using the built-in accuracy metric\n",
    "from sklearn.metrics import accuracy_score\n",
    "\n",
    "accuracy = accuracy_score(y_test, predictions)\n",
    "print(\"Accuracy: %.2f%%\" % (accuracy * 100.0))"
   ]
  },
  {
   "cell_type": "markdown",
   "id": "292aebd6",
   "metadata": {},
   "source": [
    "The accuracy of the model is 91.43%. In the real world, anything above 80% or 85% is already good enough."
   ]
  },
  {
   "cell_type": "markdown",
   "id": "d4a93763-a696-4e5d-94e4-fdcd113f4621",
   "metadata": {
    "id": "d4a93763-a696-4e5d-94e4-fdcd113f4621",
    "tags": []
   },
   "source": [
    "## Further Improvements"
   ]
  },
  {
   "cell_type": "markdown",
   "id": "1a3006fa-e37e-41da-bf8e-5a2e459720f3",
   "metadata": {
    "id": "1a3006fa-e37e-41da-bf8e-5a2e459720f3"
   },
   "source": [
    "If you have had more time, what would you recommend to further improve the model and why?"
   ]
  },
  {
   "cell_type": "markdown",
   "id": "a1bd3678",
   "metadata": {},
   "source": [
    "1. Check the distribution of the data and find whether it is skewed, and prep it further to fix the skewness\n",
    "2. Check whether any of the data is imbalanced, and use SMOTE technique to fix it\n",
    "3. Normalize or standardize the range of the variables used as features\n",
    "4. Use chi-square and extra tree classifier to check the feature importance of the categorical fields\n",
    "5. Experiment with other models like logistic regression, decision tree, random forest, KNN, SVM, etc. and compare the results"
   ]
  }
 ],
 "metadata": {
  "colab": {
   "name": "DS_JULO_TechAssignment_mw.ipynb",
   "provenance": []
  },
  "kernelspec": {
   "display_name": "Python 3 (ipykernel)",
   "language": "python",
   "name": "python3"
  },
  "language_info": {
   "codemirror_mode": {
    "name": "ipython",
    "version": 3
   },
   "file_extension": ".py",
   "mimetype": "text/x-python",
   "name": "python",
   "nbconvert_exporter": "python",
   "pygments_lexer": "ipython3",
   "version": "3.10.9"
  }
 },
 "nbformat": 4,
 "nbformat_minor": 5
}
